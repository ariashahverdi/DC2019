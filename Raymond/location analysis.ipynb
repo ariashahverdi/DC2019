{
 "cells": [
  {
   "cell_type": "code",
   "execution_count": 1,
   "metadata": {},
   "outputs": [
    {
     "data": {
      "text/html": [
       "<script type=\"text/javascript\">window.PlotlyConfig = {MathJaxConfig: 'local'};</script><script type=\"text/javascript\">if (window.MathJax) {MathJax.Hub.Config({SVG: {font: \"STIX-Web\"}});}</script><script>requirejs.config({paths: { 'plotly': ['https://cdn.plot.ly/plotly-latest.min']},});if(!window._Plotly) {require(['plotly'],function(plotly) {window._Plotly=plotly;});}</script>"
      ],
      "text/vnd.plotly.v1+html": [
       "<script type=\"text/javascript\">window.PlotlyConfig = {MathJaxConfig: 'local'};</script><script type=\"text/javascript\">if (window.MathJax) {MathJax.Hub.Config({SVG: {font: \"STIX-Web\"}});}</script><script>requirejs.config({paths: { 'plotly': ['https://cdn.plot.ly/plotly-latest.min']},});if(!window._Plotly) {require(['plotly'],function(plotly) {window._Plotly=plotly;});}</script>"
      ]
     },
     "metadata": {},
     "output_type": "display_data"
    }
   ],
   "source": [
    "import pandas as pd\n",
    "import numpy as np\n",
    "from scipy.stats import chi2_contingency\n",
    "\n",
    "import plotly\n",
    "plotly.offline.init_notebook_mode(connected=True) \n",
    "import plotly.graph_objs as go\n",
    "import plotly.io as pio\n",
    "\n",
    "from sklearn import preprocessing"
   ]
  },
  {
   "cell_type": "code",
   "execution_count": 2,
   "metadata": {},
   "outputs": [],
   "source": [
    "data = pd.read_csv('../sbdc_data_merged.csv')"
   ]
  },
  {
   "cell_type": "code",
   "execution_count": 3,
   "metadata": {},
   "outputs": [],
   "source": [
    "#data.crosstab('Region','Business Status')"
   ]
  },
  {
   "cell_type": "code",
   "execution_count": 4,
   "metadata": {},
   "outputs": [],
   "source": [
    "sankey = data.groupby(['Region','center_region'])['center_region'].count().to_frame().rename({'center_region':'count'},axis=1).reset_index()"
   ]
  },
  {
   "cell_type": "code",
   "execution_count": 5,
   "metadata": {},
   "outputs": [
    {
     "data": {
      "text/html": [
       "<div>\n",
       "<style scoped>\n",
       "    .dataframe tbody tr th:only-of-type {\n",
       "        vertical-align: middle;\n",
       "    }\n",
       "\n",
       "    .dataframe tbody tr th {\n",
       "        vertical-align: top;\n",
       "    }\n",
       "\n",
       "    .dataframe thead th {\n",
       "        text-align: right;\n",
       "    }\n",
       "</style>\n",
       "<table border=\"1\" class=\"dataframe\">\n",
       "  <thead>\n",
       "    <tr style=\"text-align: right;\">\n",
       "      <th></th>\n",
       "      <th>Region</th>\n",
       "      <th>center_region</th>\n",
       "      <th>count</th>\n",
       "    </tr>\n",
       "  </thead>\n",
       "  <tbody>\n",
       "    <tr>\n",
       "      <th>0</th>\n",
       "      <td>Corridor</td>\n",
       "      <td>Baltimore Business Recovery</td>\n",
       "      <td>28</td>\n",
       "    </tr>\n",
       "    <tr>\n",
       "      <th>1</th>\n",
       "      <td>Corridor</td>\n",
       "      <td>Corridor</td>\n",
       "      <td>5708</td>\n",
       "    </tr>\n",
       "    <tr>\n",
       "      <th>2</th>\n",
       "      <td>Corridor</td>\n",
       "      <td>DUPLICATES</td>\n",
       "      <td>15</td>\n",
       "    </tr>\n",
       "    <tr>\n",
       "      <th>3</th>\n",
       "      <td>Corridor</td>\n",
       "      <td>Eastern</td>\n",
       "      <td>34</td>\n",
       "    </tr>\n",
       "    <tr>\n",
       "      <th>4</th>\n",
       "      <td>Corridor</td>\n",
       "      <td>Hispanic Business Center</td>\n",
       "      <td>448</td>\n",
       "    </tr>\n",
       "  </tbody>\n",
       "</table>\n",
       "</div>"
      ],
      "text/plain": [
       "     Region                center_region  count\n",
       "0  Corridor  Baltimore Business Recovery     28\n",
       "1  Corridor                     Corridor   5708\n",
       "2  Corridor                   DUPLICATES     15\n",
       "3  Corridor                      Eastern     34\n",
       "4  Corridor     Hispanic Business Center    448"
      ]
     },
     "execution_count": 5,
     "metadata": {},
     "output_type": "execute_result"
    }
   ],
   "source": [
    "sankey.head()"
   ]
  },
  {
   "cell_type": "code",
   "execution_count": 6,
   "metadata": {},
   "outputs": [],
   "source": [
    "region_le = preprocessing.LabelEncoder()\n",
    "region_le.fit(sankey['Region'])\n",
    "region_transform = region_le.transform(sankey['Region'])\n",
    "region_inverse_transform = region_le.inverse_transform(region_transform)\n",
    "sankey['region_position'] = region_transform\n",
    "\n",
    "center_le = preprocessing.LabelEncoder()\n",
    "center_le.fit(sankey['center_region'])\n",
    "center_transform = center_le.transform(sankey['center_region'])\n",
    "center_inverse_transform = center_le.inverse_transform(center_transform)\n",
    "sankey['center_position'] = center_transform"
   ]
  },
  {
   "cell_type": "code",
   "execution_count": 7,
   "metadata": {},
   "outputs": [],
   "source": [
    "region_label = list(sankey['Region'].unique())\n",
    "center_label = list(sankey['center_region'].unique())\n",
    "label = []\n",
    "label.extend(region_label)\n",
    "label.extend(center_label)"
   ]
  },
  {
   "cell_type": "code",
   "execution_count": 8,
   "metadata": {},
   "outputs": [],
   "source": [
    "sankey['center_position'] = sankey['region_position'].max() + sankey['center_position'] + 1"
   ]
  },
  {
   "cell_type": "code",
   "execution_count": 9,
   "metadata": {},
   "outputs": [
    {
     "data": {
      "text/plain": [
       "'file://C:\\\\Users\\\\raymo\\\\UMD\\\\Research\\\\DC2019\\\\Raymond\\\\Business Region to SBDC Center.html'"
      ]
     },
     "execution_count": 9,
     "metadata": {},
     "output_type": "execute_result"
    }
   ],
   "source": [
    "data = dict(\n",
    "    type='sankey',\n",
    "    orientation = \"h\",\n",
    "    #valueformat = \".4f\",\n",
    "    node = dict(\n",
    "      pad = 100,\n",
    "      thickness = 30,\n",
    "      line = dict(\n",
    "        color = \"black\",\n",
    "        width = 0.5\n",
    "      ),\n",
    "      label = label,\n",
    "      color = \"black\"\n",
    "    ),\n",
    "    link = dict(\n",
    "      source = sankey['region_position'],\n",
    "      target = sankey['center_position'],\n",
    "      value = sankey['count'],\n",
    "      #label = inverse_transform\n",
    "      #color = link_color\n",
    "  ))\n",
    "\n",
    "title = str(\"Business Region to SBDC Center\")\n",
    "layout =  dict(\n",
    "    title = title,\n",
    "    font = dict(\n",
    "      size = 20\n",
    "    ),\n",
    "    width=1200,\n",
    "    height=1200,\n",
    ")\n",
    "\n",
    "fig = dict(data=[data], layout=layout)\n",
    "#plotly.offline.iplot(fig, validate=False)\n",
    "pio.write_image(fig, \"{}.png\".format(title))\n",
    "plotly.offline.plot(fig, filename =  \"{}.html\".format(title), auto_open=False)"
   ]
  },
  {
   "cell_type": "code",
   "execution_count": null,
   "metadata": {},
   "outputs": [],
   "source": []
  }
 ],
 "metadata": {
  "kernelspec": {
   "display_name": "Python 3",
   "language": "python",
   "name": "python3"
  },
  "language_info": {
   "codemirror_mode": {
    "name": "ipython",
    "version": 3
   },
   "file_extension": ".py",
   "mimetype": "text/x-python",
   "name": "python",
   "nbconvert_exporter": "python",
   "pygments_lexer": "ipython3",
   "version": "3.7.0"
  }
 },
 "nbformat": 4,
 "nbformat_minor": 2
}
