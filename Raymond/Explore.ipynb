{
 "cells": [
  {
   "cell_type": "markdown",
   "metadata": {},
   "source": [
    "# DC2019"
   ]
  },
  {
   "cell_type": "code",
   "execution_count": 1,
   "metadata": {},
   "outputs": [],
   "source": [
    "import pandas as pd\n",
    "import numpy as np"
   ]
  },
  {
   "cell_type": "code",
   "execution_count": 2,
   "metadata": {},
   "outputs": [],
   "source": [
    "data = pd.read_csv('../sbdc_data_merged.csv')"
   ]
  },
  {
   "cell_type": "markdown",
   "metadata": {},
   "source": [
    "Service Center - SBDC center where a business received counseling services <br>\n",
    "County - business's county <br>\n",
    "Initial Services - type of service (individual counseling or group training) an entrepreneur received first when came to SBDC <br>\n",
    "Attended Group Training? - indicates whether an entrepreneur attended group training(s) before or at the time of individual counseling <br>\n",
    "Business Status - current business status of a business <br> \n",
    "Impact: Capital Investments, $ - sum of capital investments secured by a business during the reporting time <br>\n",
    "Impact: Created New Jobs - sum of new jobs created by a business during the reporting time <br>\n",
    "Impact: Revenue Increase -  sum of increase in annual revenue of a business during the reporting time <br>\n",
    "Impact: Started Business - indicates whether a pre-venture entrepreneur started a business during the reporting time <br>\n",
    "Company Total Employee - business's current total number of employees <br>\n",
    "Company's Gross Revenue - business's current annual revenue <br>\n",
    "Primary NAICS code - business's NAICS (industry) code <br>\n",
    "Ownership Gender - business owner's gender <br>\n",
    "Owner's Hispanic Origin - Hispanic origin of a business owner <br>\n",
    "Owner's Race - business owner's race <br>"
   ]
  },
  {
   "cell_type": "code",
   "execution_count": 3,
   "metadata": {},
   "outputs": [
    {
     "data": {
      "text/html": [
       "<div>\n",
       "<style scoped>\n",
       "    .dataframe tbody tr th:only-of-type {\n",
       "        vertical-align: middle;\n",
       "    }\n",
       "\n",
       "    .dataframe tbody tr th {\n",
       "        vertical-align: top;\n",
       "    }\n",
       "\n",
       "    .dataframe thead th {\n",
       "        text-align: right;\n",
       "    }\n",
       "</style>\n",
       "<table border=\"1\" class=\"dataframe\">\n",
       "  <thead>\n",
       "    <tr style=\"text-align: right;\">\n",
       "      <th></th>\n",
       "      <th>Service Center</th>\n",
       "      <th>County</th>\n",
       "      <th>Initial Services Sought at First Visit</th>\n",
       "      <th>Attended Group Training?</th>\n",
       "      <th>Total Counseling Time, hrs</th>\n",
       "      <th>Business Status</th>\n",
       "      <th>Impact: Capital Investments</th>\n",
       "      <th>Impact: Created New Jobs</th>\n",
       "      <th>Impact: Revenue Increase</th>\n",
       "      <th>Impact: Started Business</th>\n",
       "      <th>Company's Total employees</th>\n",
       "      <th>Company's Gross Revenue, $</th>\n",
       "      <th>NAICS code</th>\n",
       "      <th>Ownership Gender</th>\n",
       "      <th>Owner's Hispanic Origin</th>\n",
       "      <th>Owner's Race</th>\n",
       "      <th>Industry Title</th>\n",
       "      <th>Number of Business Establishments</th>\n",
       "      <th>Region</th>\n",
       "      <th>center_region</th>\n",
       "    </tr>\n",
       "  </thead>\n",
       "  <tbody>\n",
       "    <tr>\n",
       "      <th>0</th>\n",
       "      <td>Anne Arundel County</td>\n",
       "      <td>Anne Arundel</td>\n",
       "      <td>Counseling</td>\n",
       "      <td>No</td>\n",
       "      <td>3.5</td>\n",
       "      <td>Started with SBDC</td>\n",
       "      <td>0.0</td>\n",
       "      <td>0.0</td>\n",
       "      <td>0.0</td>\n",
       "      <td>Not applicable: Already in Business</td>\n",
       "      <td>1.0</td>\n",
       "      <td>60000</td>\n",
       "      <td>56</td>\n",
       "      <td>Male-Owned</td>\n",
       "      <td>Non-Hispanic</td>\n",
       "      <td>Black or African American</td>\n",
       "      <td>Administrative and Support and Waste Managemen...</td>\n",
       "      <td>1,786,052</td>\n",
       "      <td>Corridor</td>\n",
       "      <td>Corridor</td>\n",
       "    </tr>\n",
       "  </tbody>\n",
       "</table>\n",
       "</div>"
      ],
      "text/plain": [
       "        Service Center        County Initial Services Sought at First Visit  \\\n",
       "0  Anne Arundel County  Anne Arundel                             Counseling   \n",
       "\n",
       "  Attended Group Training?  Total Counseling Time, hrs    Business Status  \\\n",
       "0                       No                         3.5  Started with SBDC   \n",
       "\n",
       "   Impact: Capital Investments  Impact: Created New Jobs  \\\n",
       "0                          0.0                       0.0   \n",
       "\n",
       "   Impact: Revenue Increase             Impact: Started Business  \\\n",
       "0                       0.0  Not applicable: Already in Business   \n",
       "\n",
       "   Company's Total employees  Company's Gross Revenue, $ NAICS code  \\\n",
       "0                        1.0                       60000         56   \n",
       "\n",
       "  Ownership Gender Owner's Hispanic Origin               Owner's Race  \\\n",
       "0       Male-Owned            Non-Hispanic  Black or African American   \n",
       "\n",
       "                                      Industry Title  \\\n",
       "0  Administrative and Support and Waste Managemen...   \n",
       "\n",
       "  Number of Business Establishments    Region center_region  \n",
       "0                         1,786,052  Corridor      Corridor  "
      ]
     },
     "execution_count": 3,
     "metadata": {},
     "output_type": "execute_result"
    }
   ],
   "source": [
    "data.head(1)"
   ]
  },
  {
   "cell_type": "markdown",
   "metadata": {},
   "source": [
    "## Basic Counting"
   ]
  },
  {
   "cell_type": "code",
   "execution_count": 4,
   "metadata": {},
   "outputs": [
    {
     "data": {
      "text/plain": [
       "Male-Owned                      5294\n",
       "Woman-Owned                     4990\n",
       "Choose not to respond           3845\n",
       "Male/Female-Owned               2781\n",
       "Woman-Owned (WOSB) Certified      91\n",
       "EDWOSB Certified                  59\n",
       "WBE Certified                     19\n",
       "Name: Ownership Gender, dtype: int64"
      ]
     },
     "execution_count": 4,
     "metadata": {},
     "output_type": "execute_result"
    }
   ],
   "source": [
    "data['Ownership Gender'].value_counts()"
   ]
  },
  {
   "cell_type": "code",
   "execution_count": 5,
   "metadata": {},
   "outputs": [
    {
     "data": {
      "text/plain": [
       "Pre-venture/Nascent            6928\n",
       "In Business (> 1 year)         6703\n",
       "Started with SBDC              1888\n",
       "Start-up (in bus. < 1 year)    1560\n",
       "Name: Business Status, dtype: int64"
      ]
     },
     "execution_count": 5,
     "metadata": {},
     "output_type": "execute_result"
    }
   ],
   "source": [
    "data['Business Status'].value_counts()"
   ]
  },
  {
   "cell_type": "code",
   "execution_count": 6,
   "metadata": {},
   "outputs": [
    {
     "data": {
      "text/plain": [
       "Counseling    14878\n",
       "Training       2201\n",
       "Name: Initial Services Sought at First Visit, dtype: int64"
      ]
     },
     "execution_count": 6,
     "metadata": {},
     "output_type": "execute_result"
    }
   ],
   "source": [
    "data['Initial Services Sought at First Visit'].value_counts()"
   ]
  },
  {
   "cell_type": "code",
   "execution_count": 7,
   "metadata": {},
   "outputs": [
    {
     "data": {
      "text/plain": [
       "Business Status\n",
       "In Business (> 1 year)         6703\n",
       "Pre-venture/Nascent            6928\n",
       "Start-up (in bus. < 1 year)    1560\n",
       "Started with SBDC              1888\n",
       "dtype: int64"
      ]
     },
     "execution_count": 7,
     "metadata": {},
     "output_type": "execute_result"
    }
   ],
   "source": [
    "data.groupby(['Business Status']).size()"
   ]
  },
  {
   "cell_type": "code",
   "execution_count": 8,
   "metadata": {},
   "outputs": [
    {
     "data": {
      "text/plain": [
       "Business Status              Impact: Started Business           \n",
       "In Business (> 1 year)       Not applicable: Already in Business    6596\n",
       "                             Yes                                     107\n",
       "Pre-venture/Nascent          No                                     6928\n",
       "Start-up (in bus. < 1 year)  Not applicable: Already in Business    1442\n",
       "                             Yes                                     118\n",
       "Started with SBDC            Not applicable: Already in Business     446\n",
       "                             Yes                                    1442\n",
       "dtype: int64"
      ]
     },
     "execution_count": 8,
     "metadata": {},
     "output_type": "execute_result"
    }
   ],
   "source": [
    "data.groupby(['Business Status','Impact: Started Business']).size()"
   ]
  },
  {
   "cell_type": "code",
   "execution_count": 9,
   "metadata": {},
   "outputs": [
    {
     "data": {
      "text/plain": [
       "Attended Group Training?\n",
       "No     12116\n",
       "Yes     4963\n",
       "dtype: int64"
      ]
     },
     "execution_count": 9,
     "metadata": {},
     "output_type": "execute_result"
    }
   ],
   "source": [
    "data.groupby(['Attended Group Training?']).size()"
   ]
  },
  {
   "cell_type": "code",
   "execution_count": 10,
   "metadata": {},
   "outputs": [
    {
     "data": {
      "text/plain": [
       "Ownership Gender\n",
       "Choose not to respond           3845\n",
       "EDWOSB Certified                  59\n",
       "Male-Owned                      5294\n",
       "Male/Female-Owned               2781\n",
       "WBE Certified                     19\n",
       "Woman-Owned                     4990\n",
       "Woman-Owned (WOSB) Certified      91\n",
       "dtype: int64"
      ]
     },
     "execution_count": 10,
     "metadata": {},
     "output_type": "execute_result"
    }
   ],
   "source": [
    "data.groupby(['Ownership Gender']).size()"
   ]
  },
  {
   "cell_type": "code",
   "execution_count": 11,
   "metadata": {},
   "outputs": [
    {
     "data": {
      "text/plain": [
       "NAICS code\n",
       "11            155\n",
       "21             16\n",
       "22             27\n",
       "23           1082\n",
       "31            495\n",
       "32            275\n",
       "33            512\n",
       "42            433\n",
       "44            744\n",
       "45            678\n",
       "48            344\n",
       "49             44\n",
       "51            391\n",
       "52            211\n",
       "53            291\n",
       "54           2364\n",
       "55              4\n",
       "56            980\n",
       "61            453\n",
       "62            895\n",
       "71            475\n",
       "72           1034\n",
       "81            992\n",
       "92             76\n",
       "Undefined    4108\n",
       "dtype: int64"
      ]
     },
     "execution_count": 11,
     "metadata": {},
     "output_type": "execute_result"
    }
   ],
   "source": [
    "data.groupby(['NAICS code']).size()"
   ]
  },
  {
   "cell_type": "markdown",
   "metadata": {},
   "source": [
    "## Basic Stats"
   ]
  },
  {
   "cell_type": "code",
   "execution_count": 12,
   "metadata": {},
   "outputs": [
    {
     "data": {
      "text/plain": [
       "count    1.707900e+04\n",
       "mean     3.339382e+04\n",
       "std      3.324591e+05\n",
       "min      0.000000e+00\n",
       "25%      0.000000e+00\n",
       "50%      0.000000e+00\n",
       "75%      0.000000e+00\n",
       "max      2.000000e+07\n",
       "Name: Impact: Capital Investments, dtype: float64"
      ]
     },
     "execution_count": 12,
     "metadata": {},
     "output_type": "execute_result"
    }
   ],
   "source": [
    "data['Impact: Capital Investments'].describe()"
   ]
  },
  {
   "cell_type": "code",
   "execution_count": 13,
   "metadata": {},
   "outputs": [
    {
     "data": {
      "text/plain": [
       "count    17079.000000\n",
       "mean         0.876164\n",
       "std          6.714497\n",
       "min          0.000000\n",
       "25%          0.000000\n",
       "50%          0.000000\n",
       "75%          0.000000\n",
       "max        501.000000\n",
       "Name: Impact: Created New Jobs, dtype: float64"
      ]
     },
     "execution_count": 13,
     "metadata": {},
     "output_type": "execute_result"
    }
   ],
   "source": [
    "data['Impact: Created New Jobs'].describe()"
   ]
  },
  {
   "cell_type": "code",
   "execution_count": 14,
   "metadata": {},
   "outputs": [
    {
     "data": {
      "text/plain": [
       "count    1.707900e+04\n",
       "mean     3.474258e+04\n",
       "std      3.156441e+05\n",
       "min      0.000000e+00\n",
       "25%      0.000000e+00\n",
       "50%      0.000000e+00\n",
       "75%      0.000000e+00\n",
       "max      1.208263e+07\n",
       "Name: Impact: Revenue Increase, dtype: float64"
      ]
     },
     "execution_count": 14,
     "metadata": {},
     "output_type": "execute_result"
    }
   ],
   "source": [
    "data['Impact: Revenue Increase'].describe()"
   ]
  },
  {
   "cell_type": "code",
   "execution_count": 15,
   "metadata": {},
   "outputs": [
    {
     "data": {
      "text/plain": [
       "Not applicable: Already in Business    8484\n",
       "No                                     6928\n",
       "Yes                                    1667\n",
       "Name: Impact: Started Business, dtype: int64"
      ]
     },
     "execution_count": 15,
     "metadata": {},
     "output_type": "execute_result"
    }
   ],
   "source": [
    "data['Impact: Started Business'].value_counts()"
   ]
  },
  {
   "cell_type": "markdown",
   "metadata": {},
   "source": [
    "## Define Success"
   ]
  },
  {
   "cell_type": "code",
   "execution_count": 16,
   "metadata": {},
   "outputs": [],
   "source": [
    "data['ROI'] = (data['Impact: Revenue Increase'] - data['Impact: Capital Investments']) / data['Impact: Capital Investments']"
   ]
  },
  {
   "cell_type": "code",
   "execution_count": null,
   "metadata": {},
   "outputs": [],
   "source": []
  }
 ],
 "metadata": {
  "kernelspec": {
   "display_name": "Python 3",
   "language": "python",
   "name": "python3"
  },
  "language_info": {
   "codemirror_mode": {
    "name": "ipython",
    "version": 3
   },
   "file_extension": ".py",
   "mimetype": "text/x-python",
   "name": "python",
   "nbconvert_exporter": "python",
   "pygments_lexer": "ipython3",
   "version": "3.7.1"
  }
 },
 "nbformat": 4,
 "nbformat_minor": 2
}
