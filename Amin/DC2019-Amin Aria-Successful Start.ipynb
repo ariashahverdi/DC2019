{
 "cells": [
  {
   "cell_type": "markdown",
   "metadata": {},
   "source": [
    "# DC 2019- ُSuccessful Business Start"
   ]
  },
  {
   "cell_type": "markdown",
   "metadata": {},
   "source": [
    "**Your Name:** Amin Aria\n",
    "\n"
   ]
  },
  {
   "cell_type": "markdown",
   "metadata": {},
   "source": [
    "# Small buisinesses success\n"
   ]
  },
  {
   "cell_type": "code",
   "execution_count": 80,
   "metadata": {
    "collapsed": true
   },
   "outputs": [],
   "source": [
    "%matplotlib inline\n",
    "import numpy as  np\n",
    "import pandas as pd\n",
    "import matplotlib.pyplot as plt\n",
    "import sklearn\n",
    "DC19 = pd.read_csv('..\\sbdc_data_merged.csv')"
   ]
  },
  {
   "cell_type": "code",
   "execution_count": 81,
   "metadata": {},
   "outputs": [
    {
     "data": {
      "text/html": [
       "<div>\n",
       "<style>\n",
       "    .dataframe thead tr:only-child th {\n",
       "        text-align: right;\n",
       "    }\n",
       "\n",
       "    .dataframe thead th {\n",
       "        text-align: left;\n",
       "    }\n",
       "\n",
       "    .dataframe tbody tr th {\n",
       "        vertical-align: top;\n",
       "    }\n",
       "</style>\n",
       "<table border=\"1\" class=\"dataframe\">\n",
       "  <thead>\n",
       "    <tr style=\"text-align: right;\">\n",
       "      <th></th>\n",
       "      <th>Service Center</th>\n",
       "      <th>County</th>\n",
       "      <th>Initial Services Sought at First Visit</th>\n",
       "      <th>Attended Group Training?</th>\n",
       "      <th>Total Counseling Time, hrs</th>\n",
       "      <th>Business Status</th>\n",
       "      <th>Impact: Capital Investments</th>\n",
       "      <th>Impact: Created New Jobs</th>\n",
       "      <th>Impact: Revenue Increase</th>\n",
       "      <th>Impact: Started Business</th>\n",
       "      <th>Company's Total employees</th>\n",
       "      <th>Company's Gross Revenue, $</th>\n",
       "      <th>NAICS code</th>\n",
       "      <th>Ownership Gender</th>\n",
       "      <th>Owner's Hispanic Origin</th>\n",
       "      <th>Owner's Race</th>\n",
       "      <th>Industry Title</th>\n",
       "      <th>Number of Business Establishments</th>\n",
       "      <th>Region</th>\n",
       "      <th>center_region</th>\n",
       "    </tr>\n",
       "  </thead>\n",
       "  <tbody>\n",
       "    <tr>\n",
       "      <th>0</th>\n",
       "      <td>Anne Arundel County</td>\n",
       "      <td>Anne Arundel</td>\n",
       "      <td>Counseling</td>\n",
       "      <td>No</td>\n",
       "      <td>3.50</td>\n",
       "      <td>Started with SBDC</td>\n",
       "      <td>0.0</td>\n",
       "      <td>0.0</td>\n",
       "      <td>0.0</td>\n",
       "      <td>Not applicable: Already in Business</td>\n",
       "      <td>1.0</td>\n",
       "      <td>60000</td>\n",
       "      <td>56</td>\n",
       "      <td>Male-Owned</td>\n",
       "      <td>Non-Hispanic</td>\n",
       "      <td>Black or African American</td>\n",
       "      <td>Administrative and Support and Waste Managemen...</td>\n",
       "      <td>1,786,052</td>\n",
       "      <td>Corridor</td>\n",
       "      <td>Corridor</td>\n",
       "    </tr>\n",
       "    <tr>\n",
       "      <th>1</th>\n",
       "      <td>Anne Arundel County</td>\n",
       "      <td>Anne Arundel</td>\n",
       "      <td>Counseling</td>\n",
       "      <td>No</td>\n",
       "      <td>3.00</td>\n",
       "      <td>Started with SBDC</td>\n",
       "      <td>0.0</td>\n",
       "      <td>0.0</td>\n",
       "      <td>0.0</td>\n",
       "      <td>Yes</td>\n",
       "      <td>1.0</td>\n",
       "      <td>75000</td>\n",
       "      <td>54</td>\n",
       "      <td>Male-Owned</td>\n",
       "      <td>Hispanic</td>\n",
       "      <td>White/Caucasian</td>\n",
       "      <td>Professional, Scientific, and Technical Services</td>\n",
       "      <td>2,083,645</td>\n",
       "      <td>Corridor</td>\n",
       "      <td>Corridor</td>\n",
       "    </tr>\n",
       "    <tr>\n",
       "      <th>2</th>\n",
       "      <td>Anne Arundel County</td>\n",
       "      <td>Anne Arundel</td>\n",
       "      <td>Counseling</td>\n",
       "      <td>No</td>\n",
       "      <td>0.75</td>\n",
       "      <td>In Business (&gt; 1 year)</td>\n",
       "      <td>0.0</td>\n",
       "      <td>0.0</td>\n",
       "      <td>0.0</td>\n",
       "      <td>Not applicable: Already in Business</td>\n",
       "      <td>3.0</td>\n",
       "      <td>150000</td>\n",
       "      <td>11</td>\n",
       "      <td>Male-Owned</td>\n",
       "      <td>Non-Hispanic</td>\n",
       "      <td>White/Caucasian</td>\n",
       "      <td>Agriculture, Forestry, Fishing and Hunting</td>\n",
       "      <td>344,810</td>\n",
       "      <td>Corridor</td>\n",
       "      <td>Corridor</td>\n",
       "    </tr>\n",
       "    <tr>\n",
       "      <th>3</th>\n",
       "      <td>Anne Arundel County</td>\n",
       "      <td>Anne Arundel</td>\n",
       "      <td>Counseling</td>\n",
       "      <td>No</td>\n",
       "      <td>0.50</td>\n",
       "      <td>Pre-venture/Nascent</td>\n",
       "      <td>0.0</td>\n",
       "      <td>0.0</td>\n",
       "      <td>0.0</td>\n",
       "      <td>No</td>\n",
       "      <td>0.0</td>\n",
       "      <td>0</td>\n",
       "      <td>48</td>\n",
       "      <td>Male-Owned</td>\n",
       "      <td>Non-Hispanic</td>\n",
       "      <td>White/Caucasian</td>\n",
       "      <td>Transportation and Warehousing</td>\n",
       "      <td>544,912</td>\n",
       "      <td>Corridor</td>\n",
       "      <td>Corridor</td>\n",
       "    </tr>\n",
       "    <tr>\n",
       "      <th>4</th>\n",
       "      <td>Anne Arundel County</td>\n",
       "      <td>Anne Arundel</td>\n",
       "      <td>Counseling</td>\n",
       "      <td>No</td>\n",
       "      <td>1.75</td>\n",
       "      <td>In Business (&gt; 1 year)</td>\n",
       "      <td>0.0</td>\n",
       "      <td>0.0</td>\n",
       "      <td>0.0</td>\n",
       "      <td>Not applicable: Already in Business</td>\n",
       "      <td>12.0</td>\n",
       "      <td>1200000</td>\n",
       "      <td>33</td>\n",
       "      <td>Male-Owned</td>\n",
       "      <td>Non-Hispanic</td>\n",
       "      <td>White/Caucasian</td>\n",
       "      <td>Manufacturing</td>\n",
       "      <td>603,605</td>\n",
       "      <td>Corridor</td>\n",
       "      <td>Corridor</td>\n",
       "    </tr>\n",
       "  </tbody>\n",
       "</table>\n",
       "</div>"
      ],
      "text/plain": [
       "        Service Center        County Initial Services Sought at First Visit  \\\n",
       "0  Anne Arundel County  Anne Arundel                             Counseling   \n",
       "1  Anne Arundel County  Anne Arundel                             Counseling   \n",
       "2  Anne Arundel County  Anne Arundel                             Counseling   \n",
       "3  Anne Arundel County  Anne Arundel                             Counseling   \n",
       "4  Anne Arundel County  Anne Arundel                             Counseling   \n",
       "\n",
       "  Attended Group Training?  Total Counseling Time, hrs  \\\n",
       "0                       No                        3.50   \n",
       "1                       No                        3.00   \n",
       "2                       No                        0.75   \n",
       "3                       No                        0.50   \n",
       "4                       No                        1.75   \n",
       "\n",
       "          Business Status  Impact: Capital Investments  \\\n",
       "0       Started with SBDC                          0.0   \n",
       "1       Started with SBDC                          0.0   \n",
       "2  In Business (> 1 year)                          0.0   \n",
       "3     Pre-venture/Nascent                          0.0   \n",
       "4  In Business (> 1 year)                          0.0   \n",
       "\n",
       "   Impact: Created New Jobs  Impact: Revenue Increase  \\\n",
       "0                       0.0                       0.0   \n",
       "1                       0.0                       0.0   \n",
       "2                       0.0                       0.0   \n",
       "3                       0.0                       0.0   \n",
       "4                       0.0                       0.0   \n",
       "\n",
       "              Impact: Started Business  Company's Total employees  \\\n",
       "0  Not applicable: Already in Business                        1.0   \n",
       "1                                  Yes                        1.0   \n",
       "2  Not applicable: Already in Business                        3.0   \n",
       "3                                   No                        0.0   \n",
       "4  Not applicable: Already in Business                       12.0   \n",
       "\n",
       "   Company's Gross Revenue, $ NAICS code Ownership Gender  \\\n",
       "0                       60000         56       Male-Owned   \n",
       "1                       75000         54       Male-Owned   \n",
       "2                      150000         11       Male-Owned   \n",
       "3                           0         48       Male-Owned   \n",
       "4                     1200000         33       Male-Owned   \n",
       "\n",
       "  Owner's Hispanic Origin               Owner's Race  \\\n",
       "0            Non-Hispanic  Black or African American   \n",
       "1                Hispanic            White/Caucasian   \n",
       "2            Non-Hispanic            White/Caucasian   \n",
       "3            Non-Hispanic            White/Caucasian   \n",
       "4            Non-Hispanic            White/Caucasian   \n",
       "\n",
       "                                      Industry Title  \\\n",
       "0  Administrative and Support and Waste Managemen...   \n",
       "1   Professional, Scientific, and Technical Services   \n",
       "2         Agriculture, Forestry, Fishing and Hunting   \n",
       "3                     Transportation and Warehousing   \n",
       "4                                      Manufacturing   \n",
       "\n",
       "  Number of Business Establishments    Region center_region  \n",
       "0                         1,786,052  Corridor      Corridor  \n",
       "1                         2,083,645  Corridor      Corridor  \n",
       "2                           344,810  Corridor      Corridor  \n",
       "3                           544,912  Corridor      Corridor  \n",
       "4                           603,605  Corridor      Corridor  "
      ]
     },
     "execution_count": 81,
     "metadata": {},
     "output_type": "execute_result"
    }
   ],
   "source": [
    "# Show the first 5 rows of data, just to demostrate it has loaded\n",
    "DC19.head()"
   ]
  },
  {
   "cell_type": "code",
   "execution_count": 120,
   "metadata": {},
   "outputs": [
    {
     "data": {
      "text/plain": [
       "Impact: Started Business\n",
       "No                                     1668\n",
       "Not applicable: Already in Business    2698\n",
       "Yes                                     597\n",
       "dtype: int64"
      ]
     },
     "execution_count": 120,
     "metadata": {},
     "output_type": "execute_result"
    }
   ],
   "source": [
    "DC19['Impact: Started Business'].value_counts(normalize = True)\n",
    "DC19[['Attended Group Training?','Impact: Started Business']][DC19['Attended Group Training?']=='Yes'].groupby(['Impact: Started Business']).size()\n",
    "#DC19['Total Counseling Time, hrs'][(DC19['Impact: Started Business'] == 'Yes')]"
   ]
  },
  {
   "cell_type": "code",
   "execution_count": 109,
   "metadata": {},
   "outputs": [
    {
     "data": {
      "text/plain": [
       "<matplotlib.axes._subplots.AxesSubplot at 0x205021aaef0>"
      ]
     },
     "execution_count": 109,
     "metadata": {},
     "output_type": "execute_result"
    },
    {
     "data": {
      "image/png": "[encoded data removed]",
      "text/plain": [
       "<matplotlib.figure.Figure at 0x20502216828>"
      ]
     },
     "metadata": {},
     "output_type": "display_data"
    }
   ],
   "source": [
    "DC19[DC19['Total Counseling Time, hrs'] < 40].boxplot(column = 'Total Counseling Time, hrs', by ='Impact: Started Business',grid = False )"
   ]
  },
  {
   "cell_type": "code",
   "execution_count": 114,
   "metadata": {},
   "outputs": [
    {
     "data": {
      "text/html": [
       "<div>\n",
       "<style>\n",
       "    .dataframe thead tr:only-child th {\n",
       "        text-align: right;\n",
       "    }\n",
       "\n",
       "    .dataframe thead th {\n",
       "        text-align: left;\n",
       "    }\n",
       "\n",
       "    .dataframe tbody tr th {\n",
       "        vertical-align: top;\n",
       "    }\n",
       "</style>\n",
       "<table border=\"1\" class=\"dataframe\">\n",
       "  <thead>\n",
       "    <tr style=\"text-align: right;\">\n",
       "      <th></th>\n",
       "      <th>Impact: Capital Investments</th>\n",
       "    </tr>\n",
       "    <tr>\n",
       "      <th>Impact: Started Business</th>\n",
       "      <th></th>\n",
       "    </tr>\n",
       "  </thead>\n",
       "  <tbody>\n",
       "    <tr>\n",
       "      <th>No</th>\n",
       "      <td>0.0</td>\n",
       "    </tr>\n",
       "    <tr>\n",
       "      <th>Not applicable: Already in Business</th>\n",
       "      <td>0.0</td>\n",
       "    </tr>\n",
       "    <tr>\n",
       "      <th>Yes</th>\n",
       "      <td>5000.0</td>\n",
       "    </tr>\n",
       "  </tbody>\n",
       "</table>\n",
       "</div>"
      ],
      "text/plain": [
       "                                     Impact: Capital Investments\n",
       "Impact: Started Business                                        \n",
       "No                                                           0.0\n",
       "Not applicable: Already in Business                          0.0\n",
       "Yes                                                       5000.0"
      ]
     },
     "execution_count": 114,
     "metadata": {},
     "output_type": "execute_result"
    }
   ],
   "source": [
    "DC19[['Impact: Capital Investments','Impact: Started Business']].groupby(['Impact: Started Business'])\\\n",
    ".median()\n",
    "#.agg(np.std,ddof=0)"
   ]
  },
  {
   "cell_type": "code",
   "execution_count": 87,
   "metadata": {},
   "outputs": [
    {
     "data": {
      "text/html": [
       "<div>\n",
       "<style>\n",
       "    .dataframe thead tr:only-child th {\n",
       "        text-align: right;\n",
       "    }\n",
       "\n",
       "    .dataframe thead th {\n",
       "        text-align: left;\n",
       "    }\n",
       "\n",
       "    .dataframe tbody tr th {\n",
       "        vertical-align: top;\n",
       "    }\n",
       "</style>\n",
       "<table border=\"1\" class=\"dataframe\">\n",
       "  <thead>\n",
       "    <tr style=\"text-align: right;\">\n",
       "      <th>Impact: Started Business</th>\n",
       "      <th>No</th>\n",
       "      <th>Yes</th>\n",
       "    </tr>\n",
       "    <tr>\n",
       "      <th>Industry Title</th>\n",
       "      <th></th>\n",
       "      <th></th>\n",
       "    </tr>\n",
       "  </thead>\n",
       "  <tbody>\n",
       "    <tr>\n",
       "      <th>Accommodation and Food Services</th>\n",
       "      <td>0.087486</td>\n",
       "      <td>0.023099</td>\n",
       "    </tr>\n",
       "    <tr>\n",
       "      <th>Administrative and Support and Waste Management and Remediation Services</th>\n",
       "      <td>0.046381</td>\n",
       "      <td>0.017097</td>\n",
       "    </tr>\n",
       "    <tr>\n",
       "      <th>Agriculture, Forestry, Fishing and Hunting</th>\n",
       "      <td>0.012368</td>\n",
       "      <td>0.002910</td>\n",
       "    </tr>\n",
       "    <tr>\n",
       "      <th>Arts, Entertainment, and Recreation</th>\n",
       "      <td>0.038196</td>\n",
       "      <td>0.012368</td>\n",
       "    </tr>\n",
       "    <tr>\n",
       "      <th>Construction</th>\n",
       "      <td>0.032012</td>\n",
       "      <td>0.013459</td>\n",
       "    </tr>\n",
       "    <tr>\n",
       "      <th>Educational Services</th>\n",
       "      <td>0.026919</td>\n",
       "      <td>0.010731</td>\n",
       "    </tr>\n",
       "    <tr>\n",
       "      <th>Finance and Insurance</th>\n",
       "      <td>0.012004</td>\n",
       "      <td>0.003638</td>\n",
       "    </tr>\n",
       "    <tr>\n",
       "      <th>Health Care and Social Assistance</th>\n",
       "      <td>0.062386</td>\n",
       "      <td>0.020917</td>\n",
       "    </tr>\n",
       "    <tr>\n",
       "      <th>Information</th>\n",
       "      <td>0.018734</td>\n",
       "      <td>0.006184</td>\n",
       "    </tr>\n",
       "    <tr>\n",
       "      <th>Management of Companies and Enterprises</th>\n",
       "      <td>0.000364</td>\n",
       "      <td>NaN</td>\n",
       "    </tr>\n",
       "    <tr>\n",
       "      <th>Manufacturing</th>\n",
       "      <td>0.076391</td>\n",
       "      <td>0.028010</td>\n",
       "    </tr>\n",
       "    <tr>\n",
       "      <th>Mining</th>\n",
       "      <td>0.000909</td>\n",
       "      <td>0.000364</td>\n",
       "    </tr>\n",
       "    <tr>\n",
       "      <th>Other Services (except Public Administration)</th>\n",
       "      <td>0.063841</td>\n",
       "      <td>0.020917</td>\n",
       "    </tr>\n",
       "    <tr>\n",
       "      <th>Professional, Scientific, and Technical Services</th>\n",
       "      <td>0.102765</td>\n",
       "      <td>0.039833</td>\n",
       "    </tr>\n",
       "    <tr>\n",
       "      <th>Public Administration</th>\n",
       "      <td>0.003456</td>\n",
       "      <td>0.001637</td>\n",
       "    </tr>\n",
       "    <tr>\n",
       "      <th>Real Estate Rental and Leasing</th>\n",
       "      <td>0.017643</td>\n",
       "      <td>0.005457</td>\n",
       "    </tr>\n",
       "    <tr>\n",
       "      <th>Retail Trade</th>\n",
       "      <td>0.093307</td>\n",
       "      <td>0.032557</td>\n",
       "    </tr>\n",
       "    <tr>\n",
       "      <th>Transportation and Warehousing</th>\n",
       "      <td>0.026191</td>\n",
       "      <td>0.006912</td>\n",
       "    </tr>\n",
       "    <tr>\n",
       "      <th>Utilities</th>\n",
       "      <td>0.000909</td>\n",
       "      <td>0.000546</td>\n",
       "    </tr>\n",
       "    <tr>\n",
       "      <th>Wholesale Trade</th>\n",
       "      <td>0.022736</td>\n",
       "      <td>0.008367</td>\n",
       "    </tr>\n",
       "  </tbody>\n",
       "</table>\n",
       "</div>"
      ],
      "text/plain": [
       "Impact: Started Business                                  No       Yes\n",
       "Industry Title                                                        \n",
       "Accommodation and Food Services                     0.087486  0.023099\n",
       "Administrative and Support and Waste Management...  0.046381  0.017097\n",
       "Agriculture, Forestry, Fishing and Hunting          0.012368  0.002910\n",
       "Arts, Entertainment, and Recreation                 0.038196  0.012368\n",
       "Construction                                        0.032012  0.013459\n",
       "Educational Services                                0.026919  0.010731\n",
       "Finance and Insurance                               0.012004  0.003638\n",
       "Health Care and Social Assistance                   0.062386  0.020917\n",
       "Information                                         0.018734  0.006184\n",
       "Management of Companies and Enterprises             0.000364       NaN\n",
       "Manufacturing                                       0.076391  0.028010\n",
       "Mining                                              0.000909  0.000364\n",
       "Other Services (except Public Administration)       0.063841  0.020917\n",
       "Professional, Scientific, and Technical Services    0.102765  0.039833\n",
       "Public Administration                               0.003456  0.001637\n",
       "Real Estate Rental and Leasing                      0.017643  0.005457\n",
       "Retail Trade                                        0.093307  0.032557\n",
       "Transportation and Warehousing                      0.026191  0.006912\n",
       "Utilities                                           0.000909  0.000546\n",
       "Wholesale Trade                                     0.022736  0.008367"
      ]
     },
     "execution_count": 87,
     "metadata": {},
     "output_type": "execute_result"
    }
   ],
   "source": [
    "#####------GroupBy Statistics-----#####\n",
    "#fig, ax = plt.subplots(figsize=(15,7))\n",
    "   # (DC19['Impact: Capital Investments']<400000) ].\\\n",
    "    \n",
    "A= DC19[(DC19['Impact: Started Business'] != 'Not applicable: Already in Business')] \\\n",
    ".groupby(['Industry Title','Impact: Started Business'], sort = True).size() \\\n",
    ".transform(lambda x: x/sum(x)) .unstack()\n",
    "#A['Industry Title']=A.index\n",
    "#plt.bar(A.index,A['Yes'],width = 0.3 )\n",
    "A\n",
    "#.unstack().plot(ax=ax,ylim=((0,0.02)))"
   ]
  },
  {
   "cell_type": "code",
   "execution_count": 88,
   "metadata": {},
   "outputs": [
    {
     "data": {
      "text/plain": [
       "(1667, 20)"
      ]
     },
     "execution_count": 88,
     "metadata": {},
     "output_type": "execute_result"
    }
   ],
   "source": [
    "####------Started Business Analysis-----#####\n",
    "DC19start= DC19[DC19['Impact: Started Business']== 'Yes']\n",
    "DC19start.shape"
   ]
  },
  {
   "cell_type": "code",
   "execution_count": 89,
   "metadata": {
    "collapsed": true
   },
   "outputs": [],
   "source": [
    "#####-----Correlation Box-----######\n",
    "#####-----Correlation Box-----######\n",
    "import seaborn as sns\n",
    "\n",
    "#DC19start.corr()\n",
    "#sns.pairplot(DC19start)\n",
    "#sns.heatmap(DC19['County'],DC19['Service Center'])"
   ]
  },
  {
   "cell_type": "code",
   "execution_count": 90,
   "metadata": {
    "collapsed": true
   },
   "outputs": [],
   "source": [
    "dc19r=DC19[['County', 'Initial Services Sought at First Visit',\n",
    "       'Attended Group Training?', 'Total Counseling Time, hrs',\n",
    "       'Business Status', 'Impact: Capital Investments',\n",
    "       'Impact: Created New Jobs', 'Impact: Revenue Increase','Company\\'s Gross Revenue, $',\n",
    "             'Industry Title', 'Ownership Gender', 'Owner\\'s Race','Owner\\'s Hispanic Origin']].copy()\n",
    "\n"
   ]
  },
  {
   "cell_type": "code",
   "execution_count": 91,
   "metadata": {},
   "outputs": [
    {
     "data": {
      "text/plain": [
       "(17079, 75)"
      ]
     },
     "execution_count": 91,
     "metadata": {},
     "output_type": "execute_result"
    }
   ],
   "source": [
    "####-----Handling categorical variables-----####\n",
    "dc19rc=pd.get_dummies(dc19r, prefix=None, prefix_sep='_')\n",
    "dc19rc.shape"
   ]
  },
  {
   "cell_type": "markdown",
   "metadata": {},
   "source": [
    "# Classification Methods"
   ]
  },
  {
   "cell_type": "code",
   "execution_count": 92,
   "metadata": {
    "collapsed": true
   },
   "outputs": [],
   "source": [
    "####---- Data Pre-processing ----#####\n",
    "\n",
    "from sklearn.preprocessing import LabelEncoder, OneHotEncoder\n",
    "le=LabelEncoder()\n",
    "le.fit(DC19['Impact: Started Business'])\n",
    "y=le.transform(DC19['Impact: Started Business']\\\n",
    "               [DC19['Impact: Started Business'] != 'Not applicable: Already in Business'])\n",
    "X= dc19rc[DC19['Impact: Started Business'] != 'Not applicable: Already in Business']\n",
    "\n",
    "#size of training and cross-validation set\n",
    "tset=int(0.8*X.shape[0])\n",
    "\n",
    "##NEW Definition of Success including a positive Revenue Increase\n",
    "\n",
    "ynew= (X['Impact: Revenue Increase']>0) & (y==2)"
   ]
  },
  {
   "cell_type": "code",
   "execution_count": 93,
   "metadata": {},
   "outputs": [
    {
     "data": {
      "text/html": [
       "<div>\n",
       "<style>\n",
       "    .dataframe thead tr:only-child th {\n",
       "        text-align: right;\n",
       "    }\n",
       "\n",
       "    .dataframe thead th {\n",
       "        text-align: left;\n",
       "    }\n",
       "\n",
       "    .dataframe tbody tr th {\n",
       "        vertical-align: top;\n",
       "    }\n",
       "</style>\n",
       "<table border=\"1\" class=\"dataframe\">\n",
       "  <thead>\n",
       "    <tr style=\"text-align: right;\">\n",
       "      <th></th>\n",
       "      <th>Total Counseling Time, hrs</th>\n",
       "      <th>Company's Gross Revenue, $</th>\n",
       "      <th>County_Allegany</th>\n",
       "      <th>County_Anne Arundel</th>\n",
       "      <th>County_Baltimore</th>\n",
       "      <th>County_Baltimore City</th>\n",
       "      <th>County_Calvert</th>\n",
       "      <th>County_Caroline</th>\n",
       "      <th>County_Carroll</th>\n",
       "      <th>County_Cecil</th>\n",
       "      <th>...</th>\n",
       "      <th>Owner's Race_Alaska Native</th>\n",
       "      <th>Owner's Race_Asian</th>\n",
       "      <th>Owner's Race_Black or African American</th>\n",
       "      <th>Owner's Race_Choose not to respond</th>\n",
       "      <th>Owner's Race_Native American</th>\n",
       "      <th>Owner's Race_Native Hawaiian or Pacific Islander</th>\n",
       "      <th>Owner's Race_White/Caucasian</th>\n",
       "      <th>Owner's Hispanic Origin_Choose not to respond</th>\n",
       "      <th>Owner's Hispanic Origin_Hispanic</th>\n",
       "      <th>Owner's Hispanic Origin_Non-Hispanic</th>\n",
       "    </tr>\n",
       "  </thead>\n",
       "  <tbody>\n",
       "    <tr>\n",
       "      <th>1</th>\n",
       "      <td>3.000000</td>\n",
       "      <td>75000</td>\n",
       "      <td>0</td>\n",
       "      <td>1</td>\n",
       "      <td>0</td>\n",
       "      <td>0</td>\n",
       "      <td>0</td>\n",
       "      <td>0</td>\n",
       "      <td>0</td>\n",
       "      <td>0</td>\n",
       "      <td>...</td>\n",
       "      <td>0</td>\n",
       "      <td>0</td>\n",
       "      <td>0</td>\n",
       "      <td>0</td>\n",
       "      <td>0</td>\n",
       "      <td>0</td>\n",
       "      <td>1</td>\n",
       "      <td>0</td>\n",
       "      <td>1</td>\n",
       "      <td>0</td>\n",
       "    </tr>\n",
       "    <tr>\n",
       "      <th>3</th>\n",
       "      <td>0.500000</td>\n",
       "      <td>0</td>\n",
       "      <td>0</td>\n",
       "      <td>1</td>\n",
       "      <td>0</td>\n",
       "      <td>0</td>\n",
       "      <td>0</td>\n",
       "      <td>0</td>\n",
       "      <td>0</td>\n",
       "      <td>0</td>\n",
       "      <td>...</td>\n",
       "      <td>0</td>\n",
       "      <td>0</td>\n",
       "      <td>0</td>\n",
       "      <td>0</td>\n",
       "      <td>0</td>\n",
       "      <td>0</td>\n",
       "      <td>1</td>\n",
       "      <td>0</td>\n",
       "      <td>0</td>\n",
       "      <td>1</td>\n",
       "    </tr>\n",
       "    <tr>\n",
       "      <th>13</th>\n",
       "      <td>30.166667</td>\n",
       "      <td>60000</td>\n",
       "      <td>0</td>\n",
       "      <td>0</td>\n",
       "      <td>0</td>\n",
       "      <td>0</td>\n",
       "      <td>0</td>\n",
       "      <td>0</td>\n",
       "      <td>0</td>\n",
       "      <td>0</td>\n",
       "      <td>...</td>\n",
       "      <td>0</td>\n",
       "      <td>0</td>\n",
       "      <td>1</td>\n",
       "      <td>0</td>\n",
       "      <td>0</td>\n",
       "      <td>0</td>\n",
       "      <td>0</td>\n",
       "      <td>0</td>\n",
       "      <td>0</td>\n",
       "      <td>1</td>\n",
       "    </tr>\n",
       "    <tr>\n",
       "      <th>15</th>\n",
       "      <td>1.500000</td>\n",
       "      <td>0</td>\n",
       "      <td>0</td>\n",
       "      <td>1</td>\n",
       "      <td>0</td>\n",
       "      <td>0</td>\n",
       "      <td>0</td>\n",
       "      <td>0</td>\n",
       "      <td>0</td>\n",
       "      <td>0</td>\n",
       "      <td>...</td>\n",
       "      <td>0</td>\n",
       "      <td>0</td>\n",
       "      <td>0</td>\n",
       "      <td>0</td>\n",
       "      <td>0</td>\n",
       "      <td>0</td>\n",
       "      <td>1</td>\n",
       "      <td>0</td>\n",
       "      <td>0</td>\n",
       "      <td>1</td>\n",
       "    </tr>\n",
       "    <tr>\n",
       "      <th>20</th>\n",
       "      <td>2.000000</td>\n",
       "      <td>0</td>\n",
       "      <td>0</td>\n",
       "      <td>1</td>\n",
       "      <td>0</td>\n",
       "      <td>0</td>\n",
       "      <td>0</td>\n",
       "      <td>0</td>\n",
       "      <td>0</td>\n",
       "      <td>0</td>\n",
       "      <td>...</td>\n",
       "      <td>0</td>\n",
       "      <td>0</td>\n",
       "      <td>0</td>\n",
       "      <td>0</td>\n",
       "      <td>0</td>\n",
       "      <td>0</td>\n",
       "      <td>1</td>\n",
       "      <td>0</td>\n",
       "      <td>0</td>\n",
       "      <td>1</td>\n",
       "    </tr>\n",
       "  </tbody>\n",
       "</table>\n",
       "<p>5 rows × 72 columns</p>\n",
       "</div>"
      ],
      "text/plain": [
       "    Total Counseling Time, hrs  Company's Gross Revenue, $  County_Allegany  \\\n",
       "1                     3.000000                       75000                0   \n",
       "3                     0.500000                           0                0   \n",
       "13                   30.166667                       60000                0   \n",
       "15                    1.500000                           0                0   \n",
       "20                    2.000000                           0                0   \n",
       "\n",
       "    County_Anne Arundel  County_Baltimore  County_Baltimore City  \\\n",
       "1                     1                 0                      0   \n",
       "3                     1                 0                      0   \n",
       "13                    0                 0                      0   \n",
       "15                    1                 0                      0   \n",
       "20                    1                 0                      0   \n",
       "\n",
       "    County_Calvert  County_Caroline  County_Carroll  County_Cecil  \\\n",
       "1                0                0               0             0   \n",
       "3                0                0               0             0   \n",
       "13               0                0               0             0   \n",
       "15               0                0               0             0   \n",
       "20               0                0               0             0   \n",
       "\n",
       "                    ...                   Owner's Race_Alaska Native  \\\n",
       "1                   ...                                            0   \n",
       "3                   ...                                            0   \n",
       "13                  ...                                            0   \n",
       "15                  ...                                            0   \n",
       "20                  ...                                            0   \n",
       "\n",
       "    Owner's Race_Asian  Owner's Race_Black or African American  \\\n",
       "1                    0                                       0   \n",
       "3                    0                                       0   \n",
       "13                   0                                       1   \n",
       "15                   0                                       0   \n",
       "20                   0                                       0   \n",
       "\n",
       "    Owner's Race_Choose not to respond  Owner's Race_Native American  \\\n",
       "1                                    0                             0   \n",
       "3                                    0                             0   \n",
       "13                                   0                             0   \n",
       "15                                   0                             0   \n",
       "20                                   0                             0   \n",
       "\n",
       "    Owner's Race_Native Hawaiian or Pacific Islander  \\\n",
       "1                                                  0   \n",
       "3                                                  0   \n",
       "13                                                 0   \n",
       "15                                                 0   \n",
       "20                                                 0   \n",
       "\n",
       "    Owner's Race_White/Caucasian  \\\n",
       "1                              1   \n",
       "3                              1   \n",
       "13                             0   \n",
       "15                             1   \n",
       "20                             1   \n",
       "\n",
       "    Owner's Hispanic Origin_Choose not to respond  \\\n",
       "1                                               0   \n",
       "3                                               0   \n",
       "13                                              0   \n",
       "15                                              0   \n",
       "20                                              0   \n",
       "\n",
       "    Owner's Hispanic Origin_Hispanic  Owner's Hispanic Origin_Non-Hispanic  \n",
       "1                                  1                                     0  \n",
       "3                                  0                                     1  \n",
       "13                                 0                                     1  \n",
       "15                                 0                                     1  \n",
       "20                                 0                                     1  \n",
       "\n",
       "[5 rows x 72 columns]"
      ]
     },
     "execution_count": 93,
     "metadata": {},
     "output_type": "execute_result"
    }
   ],
   "source": [
    "###----Input data for Impact excluded Analysis----###\n",
    "\n",
    "dc19rno=DC19[['County', 'Initial Services Sought at First Visit',\n",
    "       'Attended Group Training?', 'Total Counseling Time, hrs',\n",
    "       'Business Status','Company\\'s Gross Revenue, $',\n",
    "             'Industry Title', 'Ownership Gender', 'Owner\\'s Race','Owner\\'s Hispanic Origin']].copy()\n",
    "dc19rcno=pd.get_dummies(dc19rno, prefix=None, prefix_sep='_')\n",
    "Xnoim= dc19rcno[DC19['Impact: Started Business'] != 'Not applicable: Already in Business']\n",
    "Xnoim.head()"
   ]
  },
  {
   "cell_type": "markdown",
   "metadata": {},
   "source": [
    "# Multinomial Logistic Regression"
   ]
  },
  {
   "cell_type": "code",
   "execution_count": 95,
   "metadata": {},
   "outputs": [
    {
     "data": {
      "text/plain": [
       "<matplotlib.axes._subplots.AxesSubplot at 0x20505c919e8>"
      ]
     },
     "execution_count": 95,
     "metadata": {},
     "output_type": "execute_result"
    },
    {
     "data": {
      "image/png": "[encoded data removed]",
      "text/plain": [
       "<matplotlib.figure.Figure at 0x205024cb588>"
      ]
     },
     "metadata": {},
     "output_type": "display_data"
    }
   ],
   "source": [
    "####------Multinomial logistic Regression------#####\n",
    "\n",
    "\n",
    "from sklearn.linear_model import LogisticRegressionCV\n",
    "\n",
    "\n",
    "clf = LogisticRegressionCV(cv=5, random_state=0,multi_class='multinomial').fit(Xnoim.head(tset), y[0:tset])\n",
    "#for the new definition of success\n",
    "#.fit(X,ynew)\n",
    "\n",
    "total=clf.predict(Xnoim)\n",
    "\n",
    "from sklearn.metrics import confusion_matrix\n",
    "sns.heatmap(confusion_matrix(y, total))"
   ]
  },
  {
   "cell_type": "code",
   "execution_count": 97,
   "metadata": {},
   "outputs": [
    {
     "data": {
      "text/plain": [
       "array([[1408,    0],\n",
       "       [   0,  311]])"
      ]
     },
     "execution_count": 97,
     "metadata": {},
     "output_type": "execute_result"
    }
   ],
   "source": [
    "###----Out of Sample Performance----####\n",
    "logstart=clf.predict(Xnoim.tail(X.shape[0]-tset))\n",
    "confusion_matrix(y[tset:X.shape[0]], logstart)\n",
    "#fig, ax = plt.subplots(figsize=(15,7))\n",
    "#plt.scatter(y[tset:X.shape[0]], logstart)"
   ]
  },
  {
   "cell_type": "code",
   "execution_count": 14,
   "metadata": {},
   "outputs": [
    {
     "data": {
      "text/plain": [
       "(array([   54853.23192726,        0.        ,        0.        ,\n",
       "               0.        ,        0.        ,        0.        ,\n",
       "               0.        ,        0.        ,        0.        ,\n",
       "               0.        ,        0.        ,        0.        ,\n",
       "               0.        ,        0.        ,        0.        ,\n",
       "               0.        ,        0.        ,        0.        ,\n",
       "               0.        ,  1261624.33432697]),\n",
       " array([ 0.99998481,  0.99998557,  0.99998633,  0.99998709,  0.99998785,\n",
       "         0.99998861,  0.99998937,  0.99999013,  0.99999088,  0.99999164,\n",
       "         0.9999924 ,  0.99999316,  0.99999392,  0.99999468,  0.99999544,\n",
       "         0.9999962 ,  0.99999696,  0.99999772,  0.99999848,  0.99999924,  1.        ]),\n",
       " <a list of 20 Patch objects>)"
      ]
     },
     "execution_count": 14,
     "metadata": {},
     "output_type": "execute_result"
    },
    {
     "data": {
      "image/png": "[encoded data removed]",
      "text/plain": [
       "<matplotlib.figure.Figure at 0x20576ff5048>"
      ]
     },
     "metadata": {},
     "output_type": "display_data"
    }
   ],
   "source": [
    "####----Probabilistic Prediction-----#######\n",
    "logp=clf.predict_proba(Xnoim.tail(100))\n",
    "\n",
    "ppre = pd.DataFrame(logp[:,1])\n",
    "ppre=pd.concat([pd.DataFrame(y[(X.shape[0]-100):X.shape[0]]),ppre],axis=1)\n",
    "ppre.columns=['Real','Probability']\n",
    "ppre['Real']= ppre['Real']/2\n",
    "plt.hist(ppre['Probability'][ppre['Real']==1.0],20,alpha=0.5, facecolor = 'g',label='Predicted Probability of Success',normed=True)\n",
    "#ppre"
   ]
  },
  {
   "cell_type": "markdown",
   "metadata": {},
   "source": [
    "# Random Forrest"
   ]
  },
  {
   "cell_type": "code",
   "execution_count": 15,
   "metadata": {},
   "outputs": [
    {
     "data": {
      "text/plain": [
       "array([[6927,    1],\n",
       "       [  36, 1631]])"
      ]
     },
     "execution_count": 15,
     "metadata": {},
     "output_type": "execute_result"
    }
   ],
   "source": [
    "###1-----Random Forrest ----1#####\n",
    "\n",
    "from sklearn.ensemble import RandomForestClassifier\n",
    "\n",
    "clf3 = RandomForestClassifier(n_estimators=100, max_depth=2, random_state=0)\n",
    "clf3.fit(X.head(tset), y[0:tset])\n",
    "RandomForestClassifier(bootstrap=True, class_weight=None, criterion='entropy',\n",
    "            max_depth=2, max_features='auto', max_leaf_nodes=None,\n",
    "            min_impurity_split=None, min_samples_leaf=1, min_samples_split=2,\n",
    "            min_weight_fraction_leaf=0.0, n_estimators=100, n_jobs=None,\n",
    "            oob_score=False, random_state=0, verbose=0, warm_start=False)\n",
    "total3=clf3.predict(X)\n",
    "confusion_matrix(y, total3)\n"
   ]
  },
  {
   "cell_type": "code",
   "execution_count": 16,
   "metadata": {},
   "outputs": [
    {
     "data": {
      "text/plain": [
       "array([[1408,    0],\n",
       "       [   5,  306]])"
      ]
     },
     "execution_count": 16,
     "metadata": {},
     "output_type": "execute_result"
    }
   ],
   "source": [
    "###----Out of Sample Performance----####\n",
    "logstart3=clf3.predict(X.tail(X.shape[0]-tset))\n",
    "confusion_matrix(y[tset:X.shape[0]], logstart3)"
   ]
  },
  {
   "cell_type": "markdown",
   "metadata": {},
   "source": [
    "# SVM"
   ]
  },
  {
   "cell_type": "code",
   "execution_count": 17,
   "metadata": {},
   "outputs": [
    {
     "data": {
      "text/plain": [
       "array([[6899,   29],\n",
       "       [  38, 1629]])"
      ]
     },
     "execution_count": 17,
     "metadata": {},
     "output_type": "execute_result"
    }
   ],
   "source": [
    "###1-----Support Vector Machine ----1#####\n",
    "\n",
    "from sklearn.svm import SVC\n",
    "\n",
    "clf2 = SVC(gamma='auto')\n",
    "clf2.fit(X.head(tset), y[0:tset]) \n",
    "SVC(C=1.0, cache_size=200, class_weight=None, coef0=0.0,\n",
    "    decision_function_shape='ovr', degree=3, gamma='auto', kernel='rbf',\n",
    "    max_iter=-1, probability=False, random_state=None, shrinking=True,\n",
    "    tol=0.001, verbose=False)\n",
    "total2=clf2.predict(X)\n",
    "confusion_matrix(y, total2)\n"
   ]
  },
  {
   "cell_type": "code",
   "execution_count": 18,
   "metadata": {},
   "outputs": [
    {
     "data": {
      "text/plain": [
       "array([[1380,   28],\n",
       "       [   8,  303]])"
      ]
     },
     "execution_count": 18,
     "metadata": {},
     "output_type": "execute_result"
    }
   ],
   "source": [
    "###----Out of Sample Performance----####\n",
    "logstart2=clf2.predict(X.tail(X.shape[0]-tset))\n",
    "confusion_matrix(y[tset:X.shape[0]], logstart2)"
   ]
  },
  {
   "cell_type": "markdown",
   "metadata": {},
   "source": [
    "# Feature Selection (Most Important Ones)"
   ]
  },
  {
   "cell_type": "code",
   "execution_count": 19,
   "metadata": {},
   "outputs": [
    {
     "name": "stdout",
     "output_type": "stream",
     "text": [
      "                                          feature        score\n",
      "34              Business Status_Started with SBDC  5992.907019\n",
      "32            Business Status_Pre-venture/Nascent  1667.000000\n",
      "33    Business Status_Start-up (in bus. < 1 year)   490.404319\n",
      "31         Business Status_In Business (> 1 year)   444.688662\n",
      "55         Ownership Gender_Choose not to respond   184.694786\n",
      "60                   Ownership Gender_Woman-Owned   148.557081\n",
      "30                   Attended Group Training?_Yes    70.236316\n",
      "3                             County_Anne Arundel    67.643437\n",
      "0                      Total Counseling Time, hrs    66.082508\n",
      "61  Ownership Gender_Woman-Owned (WOSB) Certified    54.027594\n"
     ]
    }
   ],
   "source": [
    "#####----- Univariate Selection-------####\n",
    "\n",
    "# Feature Extraction with Univariate Statistical Tests (Chi-squared for classification)\n",
    "from sklearn.feature_selection import SelectKBest\n",
    "from sklearn.feature_selection import chi2\n",
    "# load data\n",
    "# feature extraction\n",
    "test = SelectKBest(score_func=chi2, k=4)\n",
    "\n",
    "###=------Scaling Data\n",
    "from sklearn.preprocessing import MinMaxScaler\n",
    "scaler = MinMaxScaler()\n",
    "scaler.fit(Xnoim)\n",
    "Xtrans=scaler.transform(Xnoim)\n",
    "\n",
    "fit = test.fit(Xtrans, y)\n",
    "# summarize scores\n",
    "np.set_printoptions(precision=3)\n",
    "Best_Features = pd.DataFrame(fit.scores_)\n",
    "Best_Features=pd.concat([pd.DataFrame(Xnoim.columns),Best_Features],axis=1)\n",
    "Best_Features.columns=['feature','score']\n",
    "Best_Features=Best_Features.sort_values(by=['score'],ascending= False)\n",
    "#print(fit.scores_)\n",
    "#features = fit.transform(X)\n",
    "# summarize selected features\n",
    "print(Best_Features[0:10])"
   ]
  },
  {
   "cell_type": "markdown",
   "metadata": {},
   "source": [
    "# Regression for Prediction of Increased Revenue"
   ]
  },
  {
   "cell_type": "markdown",
   "metadata": {},
   "source": [
    "It is likely that regression analysis provide more accuracy on industry-wise data"
   ]
  },
  {
   "cell_type": "code",
   "execution_count": 20,
   "metadata": {},
   "outputs": [
    {
     "data": {
      "text/plain": [
       "<seaborn.axisgrid.PairGrid at 0x205770cfeb8>"
      ]
     },
     "execution_count": 20,
     "metadata": {},
     "output_type": "execute_result"
    },
    {
     "data": {
      "image/png": "[encoded data removed]",
      "text/plain": [
       "<matplotlib.figure.Figure at 0x205770cff98>"
      ]
     },
     "metadata": {},
     "output_type": "display_data"
    }
   ],
   "source": [
    "DC19PST=DC19[DC19['Industry Title']=='Professional, Scientific, and Technical Services']\n",
    "DC19PST=pd.DataFrame(DC19PST)\n",
    "sns.pairplot(DC19PST._get_numeric_data())\n",
    "\n",
    "#DC19['Industry Title'].groupby"
   ]
  },
  {
   "cell_type": "code",
   "execution_count": 53,
   "metadata": {},
   "outputs": [
    {
     "name": "stdout",
     "output_type": "stream",
     "text": [
      "0.999977030564\n",
      "0.999972368485\n",
      "\n",
      "\n"
     ]
    }
   ],
   "source": [
    "from sklearn import linear_model\n",
    "\n",
    "#lm = linear_model.LinearRegression()\n",
    "#model = lm.fit(X_train, y_train)\n",
    "#'Not applicable: Already in Business'\n",
    "\n",
    "Xri = DC19PST[(DC19PST['Impact: Started Business'] =='Not applicable: Already in Business')\\\n",
    "              & (DC19PST['Impact: Revenue Increase'] < 250000 ) ]\n",
    "\n",
    "#Xri = Xri[['County', 'Initial Services Sought at First Visit',\n",
    "#          'Attended Group Training?', 'Impact: Created New Jobs','Total Counseling Time, hrs',\n",
    "#       'Business Status', 'Company\\'s Total employees',\n",
    "#       'Company\\'s Gross Revenue, $', 'Ownership Gender', 'Owner\\'s Race', 'Industry Title']]\n",
    "\n",
    "Xri=pd.get_dummies(Xri, prefix=None, prefix_sep='_')\n",
    "yri = DC19PST['Impact: Revenue Increase']\\\n",
    " [(DC19PST['Impact: Started Business'] == 'Not applicable: Already in Business')\\\n",
    "     & (DC19PST['Impact: Revenue Increase'] < 250000 )] \n",
    "    \n",
    "yci = DC19PST['Impact: Capital Investments']\\\n",
    "[DC19PST['Impact: Started Business'] == 'Not applicable: Already in Business']\n",
    "        \n",
    "\n",
    "scaler.fit(Xri)\n",
    "Xritr=scaler.transform(Xri) \n",
    "Xritr=pd.DataFrame(Xritr)\n",
    "Xritr.columns=Xri.columns\n",
    "\n",
    "#training and testing set\n",
    "tset2=int(0.7*Xri.shape[0])\n",
    "\n",
    "#Xritr = SelectKBest(chi2, k=2).fit_transform(Xritr, yri)\n",
    "lm = linear_model.RidgeCV(alphas=(0.1,1,10))\n",
    "model = lm.fit(Xritr.head(tset), yri[0:tset])\n",
    "\n",
    "#y_pred = lm.predict(X_test)\n",
    "#print(y_pred)\n",
    "print(lm.score(Xritr.head(tset2), yri[0:tset2]))\n",
    "print(lm.score(Xritr.tail(Xri.shape[0]-tset2),yri[tset2:Xritr.shape[0]]))\n",
    "print(\"\\n\")"
   ]
  },
  {
   "cell_type": "code",
   "execution_count": 122,
   "metadata": {},
   "outputs": [
    {
     "data": {
      "image/png": "[encoded data removed]",
      "text/plain": [
       "<matplotlib.figure.Figure at 0x205087d8128>"
      ]
     },
     "metadata": {},
     "output_type": "display_data"
    }
   ],
   "source": [
    "y_pred = lm.predict(Xritr.tail(Xri.shape[0]-tset2))\n",
    "plt.scatter(y_pred,yri[tset2:Xritr.shape[0]],s=50)\n",
    "plt.xlabel=\"Predicted increase in Revenue\"\n",
    "plt.ylabel ='Real increase in Revenue'\n",
    "plt.show()"
   ]
  },
  {
   "cell_type": "code",
   "execution_count": 40,
   "metadata": {},
   "outputs": [
    {
     "data": {
      "text/plain": [
       "Index(['Service Center', 'County', 'Initial Services Sought at First Visit',\n",
       "       'Attended Group Training?', 'Total Counseling Time, hrs',\n",
       "       'Business Status', 'Impact: Capital Investments',\n",
       "       'Impact: Created New Jobs', 'Impact: Revenue Increase',\n",
       "       'Impact: Started Business', 'Company's Total employees',\n",
       "       'Company's Gross Revenue, $', 'NAICS code', 'Ownership Gender',\n",
       "       'Owner's Hispanic Origin', 'Owner's Race', 'Industry Title',\n",
       "       'Number of Business Establishments', 'Region', 'center_region'],\n",
       "      dtype='object')"
      ]
     },
     "execution_count": 40,
     "metadata": {},
     "output_type": "execute_result"
    }
   ],
   "source": [
    "DC19PST.columns"
   ]
  },
  {
   "cell_type": "raw",
   "metadata": {
    "collapsed": true
   },
   "source": [
    "Xri['County','Initial Services Sought at First Visit',\n",
    "       'Attended Group Training?', 'Total Counseling Time, hrs',\n",
    "       'Business Status', 'Company's Total employees',\n",
    "       'Company's Gross Revenue, $', 'Ownership Gender',\n",
    "       'Owner's Race', 'Industry Title',]"
   ]
  },
  {
   "cell_type": "code",
   "execution_count": null,
   "metadata": {},
   "outputs": [],
   "source": []
  },
  {
   "cell_type": "code",
   "execution_count": null,
   "metadata": {
    "collapsed": true
   },
   "outputs": [],
   "source": []
  }
 ],
 "metadata": {
  "kernelspec": {
   "display_name": "Python 3",
   "language": "python",
   "name": "python3"
  },
  "language_info": {
   "codemirror_mode": {
    "name": "ipython",
    "version": 3
   },
   "file_extension": ".py",
   "mimetype": "text/x-python",
   "name": "python",
   "nbconvert_exporter": "python",
   "pygments_lexer": "ipython3",
   "version": "3.6.1"
  }
 },
 "nbformat": 4,
 "nbformat_minor": 1
}
