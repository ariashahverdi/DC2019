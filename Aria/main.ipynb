{
 "cells": [
  {
   "cell_type": "code",
   "execution_count": 17,
   "metadata": {},
   "outputs": [],
   "source": [
    "import numpy as np\n",
    "import pandas as pd\n",
    "import matplotlib.pyplot as plt"
   ]
  },
  {
   "cell_type": "code",
   "execution_count": 23,
   "metadata": {},
   "outputs": [],
   "source": [
    "df = pd.read_csv('../sbdc_data_merged.csv')\n",
    "df.head()\n",
    "#df.index.size\n",
    "#df = df[df['Impact: Started Business'] == 'Not applicable: Already in Business']\n",
    "#df['Impact: Created New Jobs'] = pd.to_numeric(df['Impact: Created New Jobs'])\n",
    "#df['Impact: Created New Jobs'].mean()\n",
    "df = df[df['Impact: Started Business'] != 'Not applicable: Already in Business']\n",
    "\n",
    "df = df[df['Impact: Revenue Increase'] > 0]\n",
    "df = df[df['Impact: Created New Jobs']!=0]"
   ]
  },
  {
   "cell_type": "code",
   "execution_count": 24,
   "metadata": {},
   "outputs": [
    {
     "data": {
      "text/plain": [
       "36946.42776076712"
      ]
     },
     "execution_count": 24,
     "metadata": {},
     "output_type": "execute_result"
    }
   ],
   "source": [
    "df['new'] = df['Impact: Revenue Increase'] / df['Impact: Created New Jobs']\n",
    "df['new'].mean()"
   ]
  },
  {
   "cell_type": "code",
   "execution_count": null,
   "metadata": {},
   "outputs": [],
   "source": [
    "x = df.groupby([\"Ownership Gender\",\"Impact: Started Business\"]).size()\n",
    "x.to_clipboard(sep='\\t')\n",
    "#print(x)"
   ]
  },
  {
   "cell_type": "code",
   "execution_count": null,
   "metadata": {},
   "outputs": [],
   "source": [
    "x = df.groupby([\"Ownership Gender\",\"Business Status\"]).size()\n",
    "x.to_clipboard(sep='\\t')\n",
    "#print(x)"
   ]
  },
  {
   "cell_type": "code",
   "execution_count": null,
   "metadata": {},
   "outputs": [],
   "source": [
    "x = df.groupby([\"Owner's Hispanic Origin\",\"Impact: Started Business\"]).size()\n",
    "x.to_clipboard(sep='\\t')\n",
    "#print(x)"
   ]
  },
  {
   "cell_type": "code",
   "execution_count": null,
   "metadata": {},
   "outputs": [],
   "source": [
    "x = df.groupby([\"Owner's Hispanic Origin\",\"Business Status\"]).size()\n",
    "x.to_clipboard(sep='\\t')\n",
    "#print(x)"
   ]
  },
  {
   "cell_type": "code",
   "execution_count": null,
   "metadata": {},
   "outputs": [],
   "source": [
    "x = df.groupby([\"Owner's Race\",\"Impact: Started Business\"]).size()\n",
    "x.to_clipboard(sep='\\t')\n",
    "#print(x)"
   ]
  },
  {
   "cell_type": "code",
   "execution_count": null,
   "metadata": {},
   "outputs": [],
   "source": [
    "x = df.groupby([\"Owner's Race\",\"Business Status\"]).size().to_frame()\n",
    "x.to_clipboard(sep='\\t')\n",
    "#print(x)"
   ]
  },
  {
   "cell_type": "markdown",
   "metadata": {},
   "source": [
    "## Use the Following Box for Stats"
   ]
  },
  {
   "cell_type": "code",
   "execution_count": 39,
   "metadata": {},
   "outputs": [
    {
     "name": "stdout",
     "output_type": "stream",
     "text": [
      "Index(['Service Center', 'County', 'Initial Services Sought at First Visit',\n",
      "       'Attended Group Training?', 'Total Counseling Time, hrs',\n",
      "       'Business Status', 'Impact: Capital Investments',\n",
      "       'Impact: Created New Jobs', 'Impact: Revenue Increase',\n",
      "       'Impact: Started Business', 'Company's Total employees',\n",
      "       'Company's Gross Revenue, $', 'NAICS code', 'Ownership Gender',\n",
      "       'Owner's Hispanic Origin', 'Owner's Race', 'Industry Title',\n",
      "       'Number of Business Establishments', 'Region', 'center_region', 'new'],\n",
      "      dtype='object')\n",
      "                              new\n",
      "County                           \n",
      "Kent                 90000.000000\n",
      "Queen Annes          86954.761905\n",
      "Washington           74382.084885\n",
      "Charles              72040.811607\n",
      "Saint Marys          71745.741710\n",
      "Talbot               61984.649123\n",
      "Somerset             55037.964667\n",
      "Howard               51451.442371\n",
      "Wicomico             50460.388471\n",
      "Dorchester           50182.094246\n",
      "Baltimore            41002.273074\n",
      "Outside of Maryland  38717.174603\n",
      "Worcester            38617.685300\n",
      "Prince Georges       36627.018536\n",
      "Baltimore City       30697.151813\n",
      "Harford              30645.532401\n",
      "Caroline             28068.421053\n",
      "Allegany             27366.248038\n",
      "Montgomery           27074.910783\n",
      "Frederick            25520.360144\n",
      "Carroll              23023.924623\n",
      "Cecil                21642.589744\n",
      "Calvert              20864.524454\n",
      "Anne Arundel         20595.312345\n",
      "Garrett                200.000000\n"
     ]
    }
   ],
   "source": [
    "cols = df.columns\n",
    "print(cols)\n",
    "#print(cols)\n",
    "col1 = cols[1]\n",
    "col2 = cols[20]\n",
    "x1 = df.groupby(col1).apply(lambda x: (x[col2]).mean()).to_frame()\n",
    "x1.columns = [col2]\n",
    "x1 = x1.sort_values(by=col2,ascending=False)\n",
    "x1 = x1.astype('float64')\n",
    "x1.to_clipboard(sep='\\t')\n",
    "print(x1)"
   ]
  },
  {
   "cell_type": "code",
   "execution_count": null,
   "metadata": {},
   "outputs": [],
   "source": [
    "# Plotting the number of jobs created as well as \n",
    "# Increase in revenue vs. Total Time of Consulting\n",
    "col1 = cols[16]\n",
    "col2 = cols[11]\n",
    "x = df[col1]\n",
    "result = pd.concat([df[col1], df[col2]], axis=1, sort=False)\n",
    "result.plot.scatter(x=col1,y=col2)\n",
    "#fig = ax.get_figure()\n",
    "#fig.savefig('revenue_increase.pdf')\n",
    "result[col1].corr(result[col2])"
   ]
  },
  {
   "cell_type": "code",
   "execution_count": 1,
   "metadata": {},
   "outputs": [
    {
     "ename": "NameError",
     "evalue": "name 'df' is not defined",
     "output_type": "error",
     "traceback": [
      "\u001b[0;31m---------------------------------------------------------------------------\u001b[0m",
      "\u001b[0;31mNameError\u001b[0m                                 Traceback (most recent call last)",
      "\u001b[0;32m<ipython-input-1-7faa269b6acf>\u001b[0m in \u001b[0;36m<module>\u001b[0;34m()\u001b[0m\n\u001b[0;32m----> 1\u001b[0;31m \u001b[0mdf\u001b[0m\u001b[0;34m[\u001b[0m\u001b[0;34m'Sucess'\u001b[0m\u001b[0;34m]\u001b[0m \u001b[0;34m=\u001b[0m \u001b[0mfloat\u001b[0m\u001b[0;34m(\u001b[0m\u001b[0;34m'0'\u001b[0m\u001b[0;34m)\u001b[0m\u001b[0;34m\u001b[0m\u001b[0;34m\u001b[0m\u001b[0m\n\u001b[0m\u001b[1;32m      2\u001b[0m \u001b[0mdf\u001b[0m\u001b[0;34m[\u001b[0m\u001b[0;34m'Sucess'\u001b[0m\u001b[0;34m]\u001b[0m \u001b[0;34m=\u001b[0m \u001b[0mdf\u001b[0m\u001b[0;34m[\u001b[0m\u001b[0;34m'Impact: Revenue Increase'\u001b[0m\u001b[0;34m]\u001b[0m\u001b[0;34m/\u001b[0m\u001b[0mdf\u001b[0m\u001b[0;34m[\u001b[0m\u001b[0;34m'Company\\'s Gross Revenue, $'\u001b[0m\u001b[0;34m]\u001b[0m\u001b[0;34m>\u001b[0m\u001b[0;36m0.0\u001b[0m\u001b[0;34m\u001b[0m\u001b[0;34m\u001b[0m\u001b[0m\n\u001b[1;32m      3\u001b[0m \u001b[0mdf\u001b[0m\u001b[0;34m[\u001b[0m\u001b[0;34m'Sucess'\u001b[0m\u001b[0;34m]\u001b[0m \u001b[0;34m=\u001b[0m \u001b[0mdf\u001b[0m\u001b[0;34m[\u001b[0m\u001b[0;34m'Sucess'\u001b[0m\u001b[0;34m]\u001b[0m \u001b[0;34m*\u001b[0m \u001b[0;36m1\u001b[0m \u001b[0;31m# Change to 0/1\u001b[0m\u001b[0;34m\u001b[0m\u001b[0;34m\u001b[0m\u001b[0m\n\u001b[1;32m      4\u001b[0m \u001b[0mdf_counsel_train\u001b[0m \u001b[0;34m=\u001b[0m \u001b[0mpd\u001b[0m\u001b[0;34m.\u001b[0m\u001b[0mget_dummies\u001b[0m\u001b[0;34m(\u001b[0m\u001b[0mdf\u001b[0m\u001b[0;34m[\u001b[0m\u001b[0;34m'Initial Services Sought at First Visit'\u001b[0m\u001b[0;34m]\u001b[0m\u001b[0;34m)\u001b[0m\u001b[0;34m\u001b[0m\u001b[0;34m\u001b[0m\u001b[0m\n\u001b[1;32m      5\u001b[0m \u001b[0mdf_business_status\u001b[0m \u001b[0;34m=\u001b[0m \u001b[0mpd\u001b[0m\u001b[0;34m.\u001b[0m\u001b[0mget_dummies\u001b[0m\u001b[0;34m(\u001b[0m\u001b[0mdf\u001b[0m\u001b[0;34m[\u001b[0m\u001b[0;34m'Business Status'\u001b[0m\u001b[0;34m]\u001b[0m\u001b[0;34m)\u001b[0m\u001b[0;34m\u001b[0m\u001b[0;34m\u001b[0m\u001b[0m\n",
      "\u001b[0;31mNameError\u001b[0m: name 'df' is not defined"
     ]
    }
   ],
   "source": [
    "df['Sucess'] = float('0')\n",
    "df['Sucess'] = df['Impact: Revenue Increase']/df['Company\\'s Gross Revenue, $']>0.0 \n",
    "df['Sucess'] = df['Sucess'] * 1 # Change to 0/1\n",
    "df_counsel_train = pd.get_dummies(df['Initial Services Sought at First Visit'])\n",
    "df_business_status = pd.get_dummies(df['Business Status'])\n",
    "#df = df.join(df_counsel_train)\n",
    "#df = df.join(df_business_status)\n",
    "df['County'].unique()"
   ]
  },
  {
   "cell_type": "code",
   "execution_count": null,
   "metadata": {},
   "outputs": [],
   "source": [
    "# Try to balance data\n",
    "g = df.groupby('Sucess')\n",
    "g = pd.DataFrame(g.apply(lambda x: x.sample(g.size().min()).reset_index(drop=True)))\n",
    "print(type(g))"
   ]
  },
  {
   "cell_type": "code",
   "execution_count": null,
   "metadata": {},
   "outputs": [],
   "source": [
    "from sklearn.model_selection import train_test_split\n",
    "from sklearn.linear_model import LogisticRegression\n",
    "from sklearn.metrics import accuracy_score\n",
    "df.columns"
   ]
  },
  {
   "cell_type": "code",
   "execution_count": null,
   "metadata": {},
   "outputs": [],
   "source": [
    "y = g['Sucess']\n",
    "#X = g[['Total Counseling Time, hrs','Counseling','Training', 'In Business (> 1 year)', 'Pre-venture/Nascent',\n",
    "#       'Start-up (in bus. < 1 year)', 'Started with SBDC']]\n",
    "X = g[['Total Counseling Time, hrs','Initial Services Sought at First Visit']]"
   ]
  },
  {
   "cell_type": "code",
   "execution_count": null,
   "metadata": {},
   "outputs": [],
   "source": [
    "X_train, X_test, y_train, y_test = train_test_split(X, y, test_size=0.2)"
   ]
  },
  {
   "cell_type": "code",
   "execution_count": null,
   "metadata": {},
   "outputs": [],
   "source": [
    "clf = LogisticRegression()\n",
    "clf.fit(X_train, y_train)"
   ]
  },
  {
   "cell_type": "code",
   "execution_count": null,
   "metadata": {},
   "outputs": [],
   "source": [
    "predictions = clf.predict(X_test)\n",
    "accuracy = accuracy_score(y_test, predictions)\n",
    "print(sum(predictions))\n",
    "print(sum(y_test))"
   ]
  },
  {
   "cell_type": "code",
   "execution_count": null,
   "metadata": {
    "scrolled": true
   },
   "outputs": [],
   "source": [
    "print(clf.score(X_train, y_train))\n",
    "cols = df.columns\n",
    "cols"
   ]
  },
  {
   "cell_type": "code",
   "execution_count": 164,
   "metadata": {},
   "outputs": [
    {
     "name": "stdout",
     "output_type": "stream",
     "text": [
      "Index(['Service Center', 'County', 'Initial Services Sought at First Visit',\n",
      "       'Attended Group Training?', 'Total Counseling Time, hrs',\n",
      "       'Business Status', 'Impact: Capital Investments',\n",
      "       'Impact: Created New Jobs', 'Impact: Revenue Increase',\n",
      "       'Impact: Started Business', 'Company's Total employees',\n",
      "       'Company's Gross Revenue, $', 'NAICS code', 'Ownership Gender',\n",
      "       'Owner's Hispanic Origin', 'Owner's Race', 'Industry Title',\n",
      "       'Number of Business Establishments', 'Region', 'center_region'],\n",
      "      dtype='object')\n"
     ]
    }
   ],
   "source": [
    "#df['Started with SBDC'].corr(df['Sucess'])\n",
    "print(cols)"
   ]
  },
  {
   "cell_type": "code",
   "execution_count": 165,
   "metadata": {},
   "outputs": [],
   "source": [
    "x1 = df.groupby([cols[1],cols[16]]).size().unstack()\n",
    "x1.to_clipboard(sep='\\t')"
   ]
  },
  {
   "cell_type": "code",
   "execution_count": null,
   "metadata": {},
   "outputs": [],
   "source": []
  }
 ],
 "metadata": {
  "kernelspec": {
   "display_name": "Python 3",
   "language": "python",
   "name": "python3"
  },
  "language_info": {
   "codemirror_mode": {
    "name": "ipython",
    "version": 3
   },
   "file_extension": ".py",
   "mimetype": "text/x-python",
   "name": "python",
   "nbconvert_exporter": "python",
   "pygments_lexer": "ipython3",
   "version": "3.6.8"
  }
 },
 "nbformat": 4,
 "nbformat_minor": 2
}
