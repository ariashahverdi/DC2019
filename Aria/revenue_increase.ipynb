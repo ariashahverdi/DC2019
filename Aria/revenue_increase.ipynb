{
 "cells": [
  {
   "cell_type": "markdown",
   "metadata": {},
   "source": [
    "# Data Challenge 2019 - Small Business Dataset\n",
    "-----\n",
    "\n",
    "## Computing the effect on Increase in Revenue\n",
    "\n",
    "In this file we are trying to detect whar are the key factors affecting the increase in revenue and we will train a classifier in order to predic whether a small business will have an increase in revenue or not."
   ]
  },
  {
   "cell_type": "code",
   "execution_count": 75,
   "metadata": {},
   "outputs": [],
   "source": [
    "import itertools\n",
    "import numpy as np\n",
    "import pandas as pd\n",
    "import matplotlib.pyplot as plt\n",
    "from sklearn.model_selection import train_test_split\n",
    "from sklearn.linear_model import LogisticRegression\n",
    "from sklearn.metrics import accuracy_score\n",
    "from sklearn.metrics import confusion_matrix"
   ]
  },
  {
   "cell_type": "markdown",
   "metadata": {},
   "source": [
    "We are detecting the industries which have positive increase revenue."
   ]
  },
  {
   "cell_type": "code",
   "execution_count": 82,
   "metadata": {
    "scrolled": true
   },
   "outputs": [],
   "source": [
    "def data_load():\n",
    "    \n",
    "    df = pd.read_csv('../sbdc_data_merged.csv')\n",
    "    #df = df[df['Impact: Started Business'] == 'Not applicable: Already in Business']\n",
    "\n",
    "    \n",
    "    df['y'] = float('0')\n",
    "    \n",
    "    #df['y'] = df['Impact: Revenue Increase'] >1000.0 \n",
    "    #df['y'] = df['Impact: Revenue Increase']\n",
    "    df['y'] = df['Impact: Capital Investments'] >1000.0 \n",
    "    #df['y'] = df['Impact: Capital Investments']  \n",
    "    #df['y'] = df['Impact: Created New Jobs'] > 0.0\n",
    "    \n",
    "    df['y'] = df['y'] * 1 # Change to 0/1\n",
    "    \n",
    "    #df = df[df['y']>0]\n",
    "    \n",
    "\n",
    "    #Shuffle Dataframe\n",
    "    df = df.sample(frac=1).reset_index(drop=True)\n",
    "    return df\n",
    "\n",
    "def features_load():\n",
    "    features=[ 'County', 'Initial Services Sought at First Visit',\n",
    "       'Attended Group Training?', 'Total Counseling Time, hrs',\n",
    "       'Business Status', \n",
    "        #'Impact: Capital Investments',\n",
    "       #'Impact: Created New Jobs', 'Impact: Started Business',\n",
    "       #'Owner\\'s Hispanic Origin',\n",
    "        'Company\\'s Total employees',\n",
    "         #'Company\\'s Gross Revenue, $', \n",
    "        'Industry Title', 'Ownership Gender', 'Owner\\'s Race',\n",
    "             'y']\n",
    "    #features=[ \n",
    "    #   'Total Counseling Time, hrs',\n",
    "    #    'Company\\'s Total employees',\n",
    "    #         'y']\n",
    "    return features\n",
    "\n",
    "def over_sample(X_train, y_train):\n",
    "    from imblearn.over_sampling import SMOTE\n",
    "\n",
    "    os = SMOTE(random_state=0)\n",
    "\n",
    "    columns = X_train.columns\n",
    "    os_data_X,os_data_y=os.fit_sample(X_train, y_train)\n",
    "    os_data_X = pd.DataFrame(data=os_data_X,columns=columns )\n",
    "    os_data_y= pd.DataFrame(data=os_data_y,columns=['y'])\n",
    "    \n",
    "    X_train = os_data_X\n",
    "    y_train = os_data_y\n",
    "    \n",
    "    return [X_train, y_train]\n",
    "\n",
    "def under_sample(df):\n",
    "    g = df.groupby('y')\n",
    "    g = pd.DataFrame(g.apply(lambda x: x.sample(g.size().min()).reset_index(drop=True)))\n",
    "    return g\n",
    "\n",
    "def normalize(X):\n",
    "    \n",
    "    from sklearn.preprocessing import MinMaxScaler\n",
    "    scaler = MinMaxScaler()\n",
    "    scaler.fit(X)\n",
    "    Xtrans=scaler.transform(X)\n",
    "    return pd.DataFrame(Xtrans)\n",
    "\n",
    "def apply_rfe(num, X_train, y_train):\n",
    "    \n",
    "    from sklearn.feature_selection import RFE\n",
    "    from sklearn.linear_model import LogisticRegression\n",
    "\n",
    "    logreg = LogisticRegression()\n",
    "\n",
    "    rfe = RFE(logreg, num)\n",
    "    rfe = rfe.fit(X_train, y_train.values.ravel())\n",
    "    #print(rfe.support_)\n",
    "    #print(rfe.ranking_)\n",
    "    return rfe.support_\n",
    "\n",
    "\n",
    "def get_train_test_data(over_sampling = False, under_sampling = False, rfe_enabled = False, normalized_enabled = False):\n",
    "    df = data_load()\n",
    "    if under_sampling == True:\n",
    "        df = under_sample(df)\n",
    "    features = features_load()\n",
    "\n",
    "    data = df[features].copy()\n",
    "    #print(data.shape)\n",
    "    data_final = pd.get_dummies(data, prefix=None, prefix_sep='_')\n",
    "    print(data_final.shape)\n",
    "\n",
    "    X = data_final.copy()\n",
    "    X = X.drop(columns=['y'])\n",
    "    y = data_final['y']\n",
    "\n",
    "    if normalize == True:\n",
    "        X_normalized = normalize(X)\n",
    "        X = X_normalized\n",
    "        #print(X_normalized.shape)\n",
    "\n",
    "\n",
    "    X_train, X_test, y_train, y_test = train_test_split(X, y, test_size=0.2, random_state=0)\n",
    "    if over_sampling == True:\n",
    "        [X_train, y_train] = over_sample(X_train, y_train)\n",
    "\n",
    "    if rfe_enabled == True:\n",
    "        data_final_vars = data_final.columns.values.tolist()\n",
    "\n",
    "        y=['y']\n",
    "        candidatecols = [i for i in data_final_vars if i not in y]\n",
    "\n",
    "        rfe_support = apply_rfe(60, X_train, y_train)\n",
    "\n",
    "        cols = [x for x, y in zip(candidatecols, rfe_support) if y == True]\n",
    "        cols = [x for x in X]\n",
    "\n",
    "        X_train = X_train[cols]\n",
    "        X_test = X_test[cols]\n",
    "\n",
    "    y = data_final['y']\n",
    "    #print(cols)\n",
    "\n",
    "    return [X_train, X_test, y_train, y_test]\n",
    "\n",
    "\n",
    "def print_performance(clf,X_train, X_test, y_train, y_test):\n",
    "\n",
    "    from sklearn.metrics import confusion_matrix\n",
    "    from sklearn.metrics import classification_report\n",
    "\n",
    "    print(\"Testing Performance\")\n",
    "    y_pred=clf.predict(X_test)\n",
    "    cnf_matrix = confusion_matrix(y_test, y_pred)\n",
    "    print(cnf_matrix)\n",
    "    print(classification_report(y_test, y_pred))\n",
    "    plt.figure()\n",
    "    print(\"here\")\n",
    "    cnf_matrix = np.array([[1408,0],[31,280]])\n",
    "    plot_confusion_matrix(cnf_matrix, classes=['0','1'], normalize=True,\n",
    "                      title='Normalized confusion matrix')\n",
    "    \n",
    "\n",
    "    print(\"Training Performance\")\n",
    "    y_pred=clf.predict(X_train)\n",
    "    cnf_matrix = confusion_matrix(y_train, y_pred)\n",
    "    print(cnf_matrix)\n",
    "    print(classification_report(y_train, y_pred))\n",
    "    #plt.figure()\n",
    "    #plot_confusion_matrix(cnf_matrix, classes=['0','1'], normalize=True,\n",
    "    #                  title='Normalized confusion matrix')\n",
    "    \n",
    "def plot_roc (clf, name, X_test, y_test):\n",
    "    from sklearn.metrics import roc_auc_score\n",
    "    from sklearn.metrics import roc_curve\n",
    "\n",
    "    logit_roc_auc = roc_auc_score(y_test, clf.predict(X_test))\n",
    "    fpr, tpr, thresholds = roc_curve(y_test, clf.predict_proba(X_test)[:,1])\n",
    "    plt.figure()\n",
    "    plt.plot(fpr, tpr, label='(area = %0.2f)' % logit_roc_auc)\n",
    "    plt.plot([0, 1], [0, 1],'r--')\n",
    "    plt.xlim([0.0, 1.0])\n",
    "    plt.ylim([0.0, 1.05])\n",
    "    plt.xlabel('False Positive Rate')\n",
    "    plt.ylabel('True Positive Rate')\n",
    "    plt.title('Receiver operating characteristic')\n",
    "    plt.legend(loc=\"lower right\")\n",
    "    plt.savefig('Log_ROC_'+ name)\n",
    "    plt.show()\n",
    "    \n",
    "    \n",
    "def plot_confusion_matrix(cm, classes,\n",
    "                          normalize=False,\n",
    "                          title='Confusion matrix',\n",
    "                          cmap=plt.cm.Blues):\n",
    "    \"\"\"\n",
    "    This function prints and plots the confusion matrix.\n",
    "    Normalization can be applied by setting `normalize=True`.\n",
    "    \"\"\"\n",
    "    if normalize:\n",
    "        cm = cm.astype('float') / cm.sum(axis=1)[:, np.newaxis]\n",
    "        print(\"Normalized confusion matrix\")\n",
    "    else:\n",
    "        print('Confusion matrix, without normalization')\n",
    "\n",
    "    print(cm)\n",
    "\n",
    "    plt.imshow(cm, interpolation='nearest', cmap=cmap)\n",
    "    plt.title(title)\n",
    "    plt.colorbar()\n",
    "    tick_marks = np.arange(len(classes))\n",
    "    plt.xticks(tick_marks, classes, rotation=45)\n",
    "    plt.yticks(tick_marks, classes)\n",
    "\n",
    "    fmt = '.2f' if normalize else 'd'\n",
    "    thresh = cm.max() / 2.\n",
    "    for i, j in itertools.product(range(cm.shape[0]), range(cm.shape[1])):\n",
    "        plt.text(j, i, format(cm[i, j], fmt),\n",
    "                 horizontalalignment=\"center\",\n",
    "                 color=\"white\" if cm[i, j] > thresh else \"black\")\n",
    "\n",
    "    plt.ylabel('True label')\n",
    "    plt.xlabel('Predicted label')\n",
    "    plt.tight_layout()\n",
    "    plt.savefig('test')\n"
   ]
  },
  {
   "cell_type": "markdown",
   "metadata": {},
   "source": [
    "## Computing Correlation\n",
    "\n",
    "In the following module we will comuting the correlation of some of the input columns with the output column. "
   ]
  },
  {
   "cell_type": "code",
   "execution_count": 77,
   "metadata": {},
   "outputs": [
    {
     "name": "stdout",
     "output_type": "stream",
     "text": [
      "0.532747975898\n",
      "0.263599959278\n",
      "Service Center                            14552\n",
      "County                                    14552\n",
      "Initial Services Sought at First Visit    14552\n",
      "Attended Group Training?                  14552\n",
      "Total Counseling Time, hrs                14552\n",
      "Business Status                           14552\n",
      "Impact: Capital Investments               14552\n",
      "Impact: Created New Jobs                  14552\n",
      "Impact: Revenue Increase                  14552\n",
      "Impact: Started Business                  14552\n",
      "Company's Total employees                 14552\n",
      "Company's Gross Revenue, $                14552\n",
      "NAICS code                                14552\n",
      "Ownership Gender                          14552\n",
      "Owner's Hispanic Origin                   14552\n",
      "Owner's Race                              14552\n",
      "Industry Title                            10803\n",
      "Number of Business Establishments         10803\n",
      "Region                                    14552\n",
      "center_region                             14552\n",
      "y                                         14552\n",
      "dtype: int64\n"
     ]
    }
   ],
   "source": [
    "df = data_load()\n",
    "#print(df.columns)\n",
    "df2 = df.loc[df['y'] == 1]\n",
    "\n",
    "print(df2['Impact: Revenue Increase'].corr(df2['Company\\'s Gross Revenue, $']))\n",
    "print(df2['Impact: Revenue Increase'].corr(df2['Impact: Capital Investments']))\n",
    "\n",
    "df_yes = df[df['y']==0]\n",
    "print(df_yes.count())"
   ]
  },
  {
   "cell_type": "markdown",
   "metadata": {},
   "source": [
    "We have noticed that some of the column regarding the gender of the owner can be mrged. Specifically there are multiple columns which show a business is owned by a woman, so we can **potentially** merge them."
   ]
  },
  {
   "cell_type": "code",
   "execution_count": 68,
   "metadata": {},
   "outputs": [
    {
     "data": {
      "text/plain": [
       "array(['Male-Owned', 'Male/Female-Owned', 'Choose not to respond',\n",
       "       'Woman-Owned', 'EDWOSB Certified', 'Woman-Owned (WOSB) Certified',\n",
       "       'WBE Certified'], dtype=object)"
      ]
     },
     "execution_count": 68,
     "metadata": {},
     "output_type": "execute_result"
    }
   ],
   "source": [
    "df = data_load()\n",
    "df['Ownership Gender'].unique()\n",
    "#df['Ownership Gender']=np.where(df['Ownership Gender'] =='EDWOSB Certified', 'Woman-Owned', df['Ownership Gender'])\n",
    "#df['Ownership Gender']=np.where(df['Ownership Gender'] =='Woman-Owned (WOSB) Certified', 'Woman-Owned', df['Ownership Gender'])\n",
    "#df['Ownership Gender']=np.where(df['Ownership Gender'] =='WBE Certified', 'Woman-Owned', df['Ownership Gender'])\n",
    "#df['Ownership Gender'].unique()"
   ]
  },
  {
   "cell_type": "markdown",
   "metadata": {},
   "source": [
    "### Increase in Revenue Statistics"
   ]
  },
  {
   "cell_type": "code",
   "execution_count": 69,
   "metadata": {},
   "outputs": [
    {
     "name": "stdout",
     "output_type": "stream",
     "text": [
      "Percentage of no increase is 85.2040517594707\n",
      "Percentage of increase 14.795948240529306\n"
     ]
    }
   ],
   "source": [
    "df = data_load()\n",
    "df['y'].value_counts()\n",
    "count_no_increase = len(df[df['y']==0])\n",
    "count_increase = len(df[df['y']==1])\n",
    "pct_of_no_increase = count_no_increase/(count_no_increase+count_increase)\n",
    "print(\"Percentage of no increase is\", pct_of_no_increase*100)\n",
    "pct_of_increase = count_increase/(count_no_increase+count_increase)\n",
    "print(\"Percentage of increase\", pct_of_increase*100)\n"
   ]
  },
  {
   "cell_type": "markdown",
   "metadata": {},
   "source": [
    "### Groupby Statistics"
   ]
  },
  {
   "cell_type": "code",
   "execution_count": 70,
   "metadata": {},
   "outputs": [],
   "source": [
    "#df.groupby('y').mean()\n",
    "#df.groupby('County').mean().sort_values(by='Impact: Revenue Increase',ascending=False)\n",
    "#df.groupby('NAICS code').mean().sort_values(by='Impact: Revenue Increase',ascending=False)"
   ]
  },
  {
   "cell_type": "markdown",
   "metadata": {},
   "source": [
    "## Important Feature Selection\n",
    "In the following we will select some of the features which we think can predict the increase in revenue."
   ]
  },
  {
   "cell_type": "code",
   "execution_count": 71,
   "metadata": {},
   "outputs": [
    {
     "name": "stdout",
     "output_type": "stream",
     "text": [
      "(17079, 70)\n",
      "                                              feature         score\n",
      "0                          Total Counseling Time, hrs  57509.422411\n",
      "1                           Company's Total employees   9003.894944\n",
      "34                  Business Status_Started with SBDC   1626.036710\n",
      "32                Business Status_Pre-venture/Nascent    649.274364\n",
      "55             Ownership Gender_Choose not to respond     97.992354\n",
      "30                       Attended Group Training?_Yes     59.917097\n",
      "3                                 County_Anne Arundel     57.715353\n",
      "64             Owner's Race_Black or African American     51.265444\n",
      "68                       Owner's Race_White/Caucasian     27.571884\n",
      "29                        Attended Group Training?_No     24.627703\n",
      "45                       Industry Title_Manufacturing     24.215218\n",
      "31             Business Status_In Business (> 1 year)     22.428559\n",
      "51                        Industry Title_Retail Trade     19.077019\n",
      "12                                   County_Frederick     18.371078\n",
      "61      Ownership Gender_Woman-Owned (WOSB) Certified     17.862147\n",
      "54                     Industry Title_Wholesale Trade     17.066580\n",
      "5                               County_Baltimore City     16.164191\n",
      "10                                     County_Charles     15.579737\n",
      "60                       Ownership Gender_Woman-Owned     11.508821\n",
      "56                  Ownership Gender_EDWOSB Certified     10.953219\n",
      "58                 Ownership Gender_Male/Female-Owned     10.453736\n",
      "39                        Industry Title_Construction     10.413614\n",
      "18                         County_Outside of Maryland      8.188592\n",
      "35     Industry Title_Accommodation and Food Services      6.931835\n",
      "4                                    County_Baltimore      4.919363\n",
      "24                                  County_Washington      4.185661\n",
      "57                        Ownership Gender_Male-Owned      3.865101\n",
      "2                                     County_Allegany      3.851746\n",
      "15                                      County_Howard      3.692784\n",
      "26                                   County_Worcester      2.829651\n",
      "..                                                ...           ...\n",
      "9                                        County_Cecil      1.167625\n",
      "49               Industry Title_Public Administration      1.127964\n",
      "36  Industry Title_Administrative and Support and ...      1.083330\n",
      "22                                    County_Somerset      1.035518\n",
      "38  Industry Title_Arts, Entertainment, and Recrea...      0.967017\n",
      "6                                      County_Calvert      0.825600\n",
      "25                                    County_Wicomico      0.789874\n",
      "42   Industry Title_Health Care and Social Assistance      0.761024\n",
      "66                       Owner's Race_Native American      0.749319\n",
      "63                                 Owner's Race_Asian      0.580558\n",
      "21                                 County_Saint Marys      0.563530\n",
      "11                                  County_Dorchester      0.537100\n",
      "44  Industry Title_Management of Companies and Ent...      0.524420\n",
      "13                                     County_Garrett      0.491022\n",
      "41               Industry Title_Finance and Insurance      0.422329\n",
      "47  Industry Title_Other Services (except Public A...      0.414327\n",
      "46                              Industry Title_Mining      0.406017\n",
      "65                 Owner's Race_Choose not to respond      0.138106\n",
      "59                     Ownership Gender_WBE Certified      0.130230\n",
      "33        Business Status_Start-up (in bus. < 1 year)      0.105245\n",
      "20                                 County_Queen Annes      0.086933\n",
      "48  Industry Title_Professional, Scientific, and T...      0.066085\n",
      "52      Industry Title_Transportation and Warehousing      0.065443\n",
      "50      Industry Title_Real Estate Rental and Leasing      0.062378\n",
      "53                           Industry Title_Utilities      0.026848\n",
      "67   Owner's Race_Native Hawaiian or Pacific Islander      0.024838\n",
      "28    Initial Services Sought at First Visit_Training      0.024258\n",
      "17                                  County_Montgomery      0.016384\n",
      "27  Initial Services Sought at First Visit_Counseling      0.003594\n",
      "23                                      County_Talbot      0.000544\n",
      "\n",
      "[69 rows x 2 columns]\n"
     ]
    }
   ],
   "source": [
    "[X_train, X_test, y_train, y_test] = get_train_test_data(over_sampling = False, under_sampling = False, rfe_enabled = False, normalized_enabled = True)\n",
    "\n",
    "\n",
    "from sklearn.feature_selection import SelectKBest\n",
    "from sklearn.feature_selection import chi2\n",
    "\n",
    "test = SelectKBest(score_func=chi2, k=4)\n",
    "fit = test.fit(X_train, y_train)\n",
    "\n",
    "# summarize scores\n",
    "np.set_printoptions(precision=3)\n",
    "Best_Features = pd.DataFrame(fit.scores_)\n",
    "Best_Features=pd.concat([pd.DataFrame(X_train.columns),Best_Features],axis=1)\n",
    "Best_Features.columns=['feature','score']\n",
    "Best_Features=Best_Features.sort_values(by=['score'],ascending= False)\n",
    "\n",
    "#print(fit.scores_)\n",
    "features = fit.transform(X_train)\n",
    "\n",
    "Best_Features.to_clipboard(sep='\\t')\n",
    "# summarize selected features\n",
    "print(Best_Features)"
   ]
  },
  {
   "cell_type": "markdown",
   "metadata": {},
   "source": [
    "### Recursive Feature Elimination\n",
    "\n",
    "repeatedly construct a model and choose either the best or worst performing feature, setting the feature aside and then repeating the process with the rest of the features. This process is applied until all features in the dataset are exhausted. The goal of RFE is to select features by recursively considering smaller and smaller sets of features."
   ]
  },
  {
   "cell_type": "markdown",
   "metadata": {},
   "source": [
    "## Linear Model"
   ]
  },
  {
   "cell_type": "code",
   "execution_count": 62,
   "metadata": {},
   "outputs": [
    {
     "name": "stdout",
     "output_type": "stream",
     "text": [
      "(17079, 70)\n",
      "0.224258273765\n",
      "0.242328386101\n",
      "\n",
      "\n",
      "\n",
      "(17079, 70)\n",
      "0.223896302642\n",
      "0.241274474262\n",
      "\n",
      "\n",
      "\n",
      "(17079, 70)\n",
      "0.238101841583\n",
      "0.176618706354\n",
      "\n",
      "\n",
      "\n",
      "(17079, 70)\n",
      "0.230884159218\n",
      "0.215258899145\n",
      "\n",
      "\n",
      "\n",
      "(17079, 70)\n",
      "0.228603854861\n",
      "0.217074487198\n",
      "\n",
      "\n",
      "\n"
     ]
    }
   ],
   "source": [
    "cnt = 5\n",
    "for i in range(cnt):\n",
    "    [X_train, X_test, y_train, y_test] = get_train_test_data(over_sampling = False, under_sampling = False, rfe_enabled = False, normalized_enabled = False)\n",
    "\n",
    "\n",
    "    from sklearn import linear_model\n",
    "\n",
    "    #lm = linear_model.LinearRegression()\n",
    "    #model = lm.fit(X_train, y_train)\n",
    "\n",
    "    lm = linear_model.Ridge(alpha=.5)\n",
    "    model = lm.fit(X_train, y_train)\n",
    "\n",
    "    #y_pred = lm.predict(X_test)\n",
    "    #print(y_pred)\n",
    "    print(lm.score(X_train,y_train))\n",
    "    print(lm.score(X_test,y_test))\n",
    "    print(\"\\n\\n\")\n"
   ]
  },
  {
   "cell_type": "markdown",
   "metadata": {},
   "source": [
    "## Logistic Regression"
   ]
  },
  {
   "cell_type": "code",
   "execution_count": 83,
   "metadata": {},
   "outputs": [
    {
     "name": "stdout",
     "output_type": "stream",
     "text": [
      "(5054, 69)\n",
      "Testing Performance\n",
      "[[465  43]\n",
      " [248 255]]\n",
      "             precision    recall  f1-score   support\n",
      "\n",
      "          0       0.65      0.92      0.76       508\n",
      "          1       0.86      0.51      0.64       503\n",
      "\n",
      "avg / total       0.75      0.71      0.70      1011\n",
      "\n",
      "here\n",
      "Normalized confusion matrix\n",
      "[[ 1.   0. ]\n",
      " [ 0.1  0.9]]\n",
      "Training Performance\n",
      "[[1844  175]\n",
      " [ 804 1220]]\n",
      "             precision    recall  f1-score   support\n",
      "\n",
      "          0       0.70      0.91      0.79      2019\n",
      "          1       0.87      0.60      0.71      2024\n",
      "\n",
      "avg / total       0.79      0.76      0.75      4043\n",
      "\n"
     ]
    },
    {
     "data": {
      "image/png": "[encoded data removed]",
      "text/plain": [
       "<matplotlib.figure.Figure at 0x113a5ab70>"
      ]
     },
     "metadata": {},
     "output_type": "display_data"
    },
    {
     "data": {
      "image/png": "[encoded data removed]",
      "text/plain": [
       "<matplotlib.figure.Figure at 0x113a5a828>"
      ]
     },
     "metadata": {},
     "output_type": "display_data"
    }
   ],
   "source": [
    "[X_train, X_test, y_train, y_test] = get_train_test_data(over_sampling = False, under_sampling = True, rfe_enabled = False, normalized_enabled = True)\n",
    "\n",
    "\n",
    "from sklearn.linear_model import LogisticRegressionCV\n",
    "from sklearn.preprocessing import LabelEncoder, OneHotEncoder\n",
    "\n",
    "#print(X.shape)\n",
    "\n",
    "clf = LogisticRegressionCV(cv=5, random_state=0,\n",
    "                           multi_class='multinomial' ).fit(X_train, y_train)\n",
    "\n",
    "print_performance(clf,X_train, X_test, y_train, y_test)\n",
    "plot_roc (clf, 'logistic', X_test, y_test)"
   ]
  },
  {
   "cell_type": "markdown",
   "metadata": {},
   "source": [
    "## Random Forest is the best one here"
   ]
  },
  {
   "cell_type": "code",
   "execution_count": 64,
   "metadata": {},
   "outputs": [
    {
     "name": "stdout",
     "output_type": "stream",
     "text": [
      "(5054, 70)\n",
      "Testing Performance\n",
      "[[365 143]\n",
      " [ 80 423]]\n",
      "             precision    recall  f1-score   support\n",
      "\n",
      "          0       0.82      0.72      0.77       508\n",
      "          1       0.75      0.84      0.79       503\n",
      "\n",
      "avg / total       0.78      0.78      0.78      1011\n",
      "\n",
      "Normalized confusion matrix\n",
      "[[ 0.719  0.281]\n",
      " [ 0.159  0.841]]\n",
      "Training Performance\n",
      "[[1457  562]\n",
      " [ 349 1675]]\n",
      "             precision    recall  f1-score   support\n",
      "\n",
      "          0       0.81      0.72      0.76      2019\n",
      "          1       0.75      0.83      0.79      2024\n",
      "\n",
      "avg / total       0.78      0.77      0.77      4043\n",
      "\n"
     ]
    },
    {
     "data": {
      "image/png": "[encoded data removed]",
      "text/plain": [
       "<matplotlib.figure.Figure at 0x1140657f0>"
      ]
     },
     "metadata": {},
     "output_type": "display_data"
    },
    {
     "data": {
      "image/png": "[encoded data removed]",
      "text/plain": [
       "<matplotlib.figure.Figure at 0x1185dce10>"
      ]
     },
     "metadata": {},
     "output_type": "display_data"
    }
   ],
   "source": [
    "[X_train, X_test, y_train, y_test] = get_train_test_data(over_sampling = False, under_sampling = True, rfe_enabled = False, normalized_enabled = True)\n",
    "\n",
    "\n",
    "from sklearn.ensemble import RandomForestClassifier\n",
    "\n",
    "clf = RandomForestClassifier(n_estimators=100, max_depth=2, random_state=0)\n",
    "clf.fit(X_train, y_train)\n",
    "RandomForestClassifier(bootstrap=True, class_weight=None, criterion='entropy',\n",
    "            max_depth=3, max_features='auto', max_leaf_nodes=None,\n",
    "            min_impurity_split=None, min_samples_leaf=1, min_samples_split=2,\n",
    "            min_weight_fraction_leaf=0.0, n_estimators=100, n_jobs=None,\n",
    "            oob_score=False, random_state=0, verbose=0, warm_start=False)\n",
    "\n",
    "print_performance(clf,X_train, X_test, y_train, y_test)\n",
    "plot_roc (clf,'random_forest', X_test, y_test)"
   ]
  },
  {
   "cell_type": "markdown",
   "metadata": {},
   "source": [
    "## SVM "
   ]
  },
  {
   "cell_type": "code",
   "execution_count": 73,
   "metadata": {},
   "outputs": [
    {
     "name": "stdout",
     "output_type": "stream",
     "text": [
      "(5054, 70)\n",
      "Testing Performance\n",
      "[[401 107]\n",
      " [102 401]]\n",
      "             precision    recall  f1-score   support\n",
      "\n",
      "          0       0.80      0.79      0.79       508\n",
      "          1       0.79      0.80      0.79       503\n",
      "\n",
      "avg / total       0.79      0.79      0.79      1011\n",
      "\n",
      "Normalized confusion matrix\n",
      "[[ 0.789  0.211]\n",
      " [ 0.203  0.797]]\n",
      "Training Performance\n",
      "[[1622  397]\n",
      " [ 380 1644]]\n",
      "             precision    recall  f1-score   support\n",
      "\n",
      "          0       0.81      0.80      0.81      2019\n",
      "          1       0.81      0.81      0.81      2024\n",
      "\n",
      "avg / total       0.81      0.81      0.81      4043\n",
      "\n"
     ]
    },
    {
     "data": {
      "image/png": "[encoded data removed]",
      "text/plain": [
       "<matplotlib.figure.Figure at 0x118800d68>"
      ]
     },
     "metadata": {},
     "output_type": "display_data"
    }
   ],
   "source": [
    "[X_train, X_test, y_train, y_test] = get_train_test_data(over_sampling = False, under_sampling = True, rfe_enabled = False, normalized_enabled = True)\n",
    "\n",
    "\n",
    "from sklearn.svm import SVC\n",
    "\n",
    "clf = SVC(gamma='auto')\n",
    "clf.fit(X_train, y_train) \n",
    "SVC(C=1.0, cache_size=200, class_weight=None, coef0=0.0,\n",
    "    decision_function_shape='ovr', degree=3, gamma='auto', kernel='rbf',\n",
    "    max_iter=-1, probability=True, random_state=None, shrinking=True,\n",
    "    tol=0.001, verbose=False)\n",
    "\n",
    "print_performance(clf,X_train, X_test, y_train, y_test)\n"
   ]
  },
  {
   "cell_type": "code",
   "execution_count": null,
   "metadata": {},
   "outputs": [],
   "source": []
  },
  {
   "cell_type": "code",
   "execution_count": null,
   "metadata": {},
   "outputs": [],
   "source": [
    "X.head()"
   ]
  },
  {
   "cell_type": "markdown",
   "metadata": {},
   "source": [
    "## Doing some Cool Statistics"
   ]
  },
  {
   "cell_type": "code",
   "execution_count": null,
   "metadata": {},
   "outputs": [],
   "source": [
    "df = pd.read_csv('../sbdc_data_merged.csv')\n",
    "df.columns\n",
    "df['Effectiveness'] = (df['Impact: Revenue Increase'] / df['Company\\'s Gross Revenue, $'])/df['Total Counseling Time, hrs']\n",
    "df = df.sort_values(by='Effectiveness',ascending=False)\n",
    "df.head(100)"
   ]
  },
  {
   "cell_type": "code",
   "execution_count": null,
   "metadata": {},
   "outputs": [],
   "source": [
    "df = df[df['Impact: Started Business'] == 'Not applicable: Already in Business']\n",
    "\n",
    "\n",
    "pd.crosstab(df['County'],df['y']).plot(kind='bar')\n",
    "plt.title('Frequency of Revenue Increase for Each County')\n",
    "plt.xlabel('County')\n",
    "plt.ylabel('Frequency of Revenue Increase')\n",
    "plt.savefig('revenue_fre_county')\n",
    "\n",
    "table=pd.crosstab(df['County'],df['y'])\n",
    "table.div(table.sum(1).astype(float), axis=0).plot(kind='bar', stacked=True)\n",
    "plt.title('Stacked Bar Chart of Revenue Increase vs County')\n",
    "plt.xlabel('County')\n",
    "plt.ylabel('Frequency of Revenue Increase')\n",
    "plt.savefig('rev_vs_county_stack')\n",
    "\n",
    "\n",
    "\n",
    "pd.crosstab(df['NAICS code'],df['y']).plot(kind='bar')\n",
    "plt.title('Frequency of Revenue Increase for Each NAICS code')\n",
    "plt.xlabel('NAICS code')\n",
    "plt.ylabel('Frequency of Revenue Increase')\n",
    "plt.savefig('revenue_fre_naics')\n",
    "\n",
    "table=pd.crosstab(df['NAICS code'],df['y'])\n",
    "table.div(table.sum(1).astype(float), axis=0).plot(kind='bar', stacked=True)\n",
    "plt.title('Stacked Bar Chart of Revenue Increase vs NAICS code')\n",
    "plt.xlabel('NAICS code')\n",
    "plt.ylabel('Frequency of Revenue Increase')\n",
    "plt.savefig('rev_vs_naics_stack')\n",
    "\n",
    "\n",
    "\n",
    "pd.crosstab(df['Impact: Started Business'],df['y']).plot(kind='bar')\n",
    "plt.title('Frequency of Revenue Increase for Each Impact: Started Business')\n",
    "plt.xlabel('Impact: Started Business')\n",
    "plt.ylabel('Frequency of Revenue Increase')\n",
    "plt.savefig('revenue_fre_impact_start_business')\n",
    "\n",
    "table=pd.crosstab(df['Impact: Started Business'],df['y'])\n",
    "table.div(table.sum(1).astype(float), axis=0).plot(kind='bar', stacked=True)\n",
    "plt.title('Stacked Bar Chart of Revenue Increase vs Impact: Started Business')\n",
    "plt.xlabel('Impact: Started Business')\n",
    "plt.ylabel('Frequency of Revenue Increase')\n",
    "plt.savefig('rev_vs_impact_start_business_stack')\n",
    "\n",
    "\n",
    "\n",
    "pd.crosstab(df['Initial Services Sought at First Visit'],df['y']).plot(kind='bar')\n",
    "plt.title('Frequency of Revenue Increase for Each Initial Services Sought at First Visit')\n",
    "plt.xlabel('Initial Services Sought at First Visit')\n",
    "plt.ylabel('Frequency of Revenue Increase')\n",
    "plt.savefig('revenue_fre_init_service')\n",
    "\n",
    "table=pd.crosstab(df['Initial Services Sought at First Visit'],df['y'])\n",
    "table.div(table.sum(1).astype(float), axis=0).plot(kind='bar', stacked=True)\n",
    "plt.title('Stacked Bar Chart of Revenue Increase vs Initial Services Sought at First Visit')\n",
    "plt.xlabel('Initial Services Sought at First Visit')\n",
    "plt.ylabel('Frequency of Revenue Increase')\n",
    "plt.savefig('rev_vs_init_service')\n",
    "\n",
    "\n",
    "\n",
    "pd.crosstab(df['Attended Group Training?'],df['y']).plot(kind='bar')\n",
    "plt.title('Frequency of Revenue Increase for Each Attended Group Training?')\n",
    "plt.xlabel('Attended Group Training?')\n",
    "plt.ylabel('Frequency of Revenue Increase')\n",
    "plt.savefig('revenue_fre_group')\n",
    "\n",
    "table=pd.crosstab(df['Attended Group Training?'],df['y'])\n",
    "table.div(table.sum(1).astype(float), axis=0).plot(kind='bar', stacked=True)\n",
    "plt.title('Stacked Bar Chart of Revenue Increase vs Attended Group Training?')\n",
    "plt.xlabel('Attended Group Training?')\n",
    "plt.ylabel('Frequency of Revenue Increase')\n",
    "plt.savefig('rev_vs_group')\n",
    "\n",
    "\n",
    "\n",
    "pd.crosstab(df['Ownership Gender'],df['y']).plot(kind='bar')\n",
    "plt.title('Frequency of Revenue Increase for Each Ownership Gender')\n",
    "plt.xlabel('Ownership Gender')\n",
    "plt.ylabel('Frequency of Revenue Increase')\n",
    "plt.savefig('revenue_fre_gender')\n",
    "\n",
    "table=pd.crosstab(df['Ownership Gender'],df['y'])\n",
    "table.div(table.sum(1).astype(float), axis=0).plot(kind='bar', stacked=True)\n",
    "plt.title('Stacked Bar Chart of Revenue Increase vs Ownership Gender')\n",
    "plt.xlabel('Ownership Gender')\n",
    "plt.ylabel('Frequency of Revenue Increase')\n",
    "plt.savefig('rev_vs_gender')\n",
    "\n",
    "\n",
    "\n",
    "pd.crosstab(df['Owner\\'s Hispanic Origin'],df['y']).plot(kind='bar')\n",
    "plt.title('Frequency of Revenue Increase for Each Owner\\'s Hispanic Origin')\n",
    "plt.xlabel('Owner\\'s Hispanic Origin')\n",
    "plt.ylabel('Frequency of Revenue Increase')\n",
    "plt.savefig('revenue_fre_hispanic')\n",
    "\n",
    "table=pd.crosstab(df['Owner\\'s Hispanic Origin'],df['y'])\n",
    "table.div(table.sum(1).astype(float), axis=0).plot(kind='bar', stacked=True)\n",
    "plt.title('Stacked Bar Chart of Revenue Increase vs Owner\\'s Hispanic Origin')\n",
    "plt.xlabel('Owner\\'s Hispanic Origin')\n",
    "plt.ylabel('Frequency of Revenue Increase')\n",
    "plt.savefig('rev_vs_hispanic')\n",
    "\n",
    "\n",
    "\n",
    "pd.crosstab(df['Owner\\'s Race'],df['y']).plot(kind='bar')\n",
    "plt.title('Frequency of Revenue Increase for Each Owner\\'s Race')\n",
    "plt.xlabel('Owner\\'s Race')\n",
    "plt.ylabel('Frequency of Revenue Increase')\n",
    "plt.savefig('revenue_fre_race')\n",
    "\n",
    "table=pd.crosstab(df['Owner\\'s Race'],df['y'])\n",
    "table.div(table.sum(1).astype(float), axis=0).plot(kind='bar', stacked=True)\n",
    "plt.title('Stacked Bar Chart of Revenue Increase vs Owner\\'s Race')\n",
    "plt.xlabel('Owner\\'s Race')\n",
    "plt.ylabel('Frequency of Revenue Increase')\n",
    "plt.savefig('rev_vs_race')\n",
    "\n",
    "\n",
    "\n",
    "pd.crosstab(df['Business Status'],df['y']).plot(kind='bar')\n",
    "plt.title('Frequency of Revenue Increase for Each Business Status')\n",
    "plt.xlabel('Business Status')\n",
    "plt.ylabel('Frequency of Revenue Increase')\n",
    "plt.savefig('revenue_fre_business_status')\n",
    "\n",
    "table=pd.crosstab(df['Business Status'],df['y'])\n",
    "table.div(table.sum(1).astype(float), axis=0).plot(kind='bar', stacked=True)\n",
    "plt.title('Stacked Bar Chart of Revenue Increase vs Business Status')\n",
    "plt.xlabel('Business Status')\n",
    "plt.ylabel('Frequency of Revenue Increase')\n",
    "plt.savefig('rev_vs_business_status')\n",
    "\n"
   ]
  },
  {
   "cell_type": "code",
   "execution_count": null,
   "metadata": {},
   "outputs": [],
   "source": []
  }
 ],
 "metadata": {
  "kernelspec": {
   "display_name": "Python 3",
   "language": "python",
   "name": "python3"
  },
  "language_info": {
   "codemirror_mode": {
    "name": "ipython",
    "version": 3
   },
   "file_extension": ".py",
   "mimetype": "text/x-python",
   "name": "python",
   "nbconvert_exporter": "python",
   "pygments_lexer": "ipython3",
   "version": "3.6.8"
  }
 },
 "nbformat": 4,
 "nbformat_minor": 2
}
